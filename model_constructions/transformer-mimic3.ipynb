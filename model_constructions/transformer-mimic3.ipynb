{
 "cells": [
  {
   "cell_type": "code",
   "execution_count": 1,
   "metadata": {
    "_cell_guid": "b1076dfc-b9ad-4769-8c92-a6c4dae69d19",
    "_uuid": "8f2839f25d086af736a60e9eeb907d3b93b6e0e5"
   },
   "outputs": [],
   "source": [
    "import numpy as np\n",
    "import csv\n",
    "from sklearn.model_selection import train_test_split\n",
    "import matplotlib.pyplot as plt\n",
    "import pandas as pd\n",
    "from sklearn.preprocessing import StandardScaler\n",
    "from tensorflow.keras.models import Model\n",
    "from tensorflow.keras.layers import Input, Dense, LayerNormalization, Dropout, MultiHeadAttention, Embedding, Flatten\n",
    "from tensorflow import keras\n",
    "from tensorflow.keras import backend as K\n",
    "from tensorflow.keras.optimizers import Adam\n",
    "import tensorflow as tf\n",
    "# import keras_tuner as kt\n",
    "import sklearn as sk"
   ]
  },
  {
   "cell_type": "code",
   "execution_count": 2,
   "metadata": {},
   "outputs": [],
   "source": [
    "def read_data(filename):\n",
    "    df = pd.read_csv(filename, dtype='float64')\n",
    "    fieldnames = list(df.columns)\n",
    "    data = np.array(df.to_dict(orient='records'))\n",
    "    return data, fieldnames\n",
    "data, fieldnames = read_data('dataset/rl_data_final_cont.csv')"
   ]
  },
  {
   "cell_type": "code",
   "execution_count": 3,
   "metadata": {},
   "outputs": [
    {
     "name": "stdout",
     "output_type": "stream",
     "text": [
      "All Fieldnames: [(0, 'bloc'), (1, 'icustayid'), (2, 'charttime'), (3, 'gender'), (4, 'age'), (5, 'elixhauser'), (6, 're_admission'), (7, 'died_in_hosp'), (8, 'died_within_48h_of_out_time'), (9, 'mortality_90d'), (10, 'delay_end_of_record_and_discharge_or_death'), (11, 'Weight_kg'), (12, 'GCS'), (13, 'HR'), (14, 'SysBP'), (15, 'MeanBP'), (16, 'DiaBP'), (17, 'RR'), (18, 'SpO2'), (19, 'Temp_C'), (20, 'FiO2_1'), (21, 'Potassium'), (22, 'Sodium'), (23, 'Chloride'), (24, 'Glucose'), (25, 'BUN'), (26, 'Creatinine'), (27, 'Magnesium'), (28, 'Calcium'), (29, 'Ionised_Ca'), (30, 'CO2_mEqL'), (31, 'SGOT'), (32, 'SGPT'), (33, 'Total_bili'), (34, 'Albumin'), (35, 'Hb'), (36, 'WBC_count'), (37, 'Platelets_count'), (38, 'PTT'), (39, 'PT'), (40, 'INR'), (41, 'Arterial_pH'), (42, 'paO2'), (43, 'paCO2'), (44, 'Arterial_BE'), (45, 'Arterial_lactate'), (46, 'HCO3'), (47, 'mechvent'), (48, 'Shock_Index'), (49, 'PaO2_FiO2'), (50, 'median_dose_vaso'), (51, 'max_dose_vaso'), (52, 'input_total'), (53, 'input_4hourly'), (54, 'output_total'), (55, 'output_4hourly'), (56, 'cumulated_balance'), (57, 'SOFA'), (58, 'SIRS'), (59, 'vaso_input'), (60, 'iv_input'), (61, 'reward')]\n"
     ]
    }
   ],
   "source": [
    "print('All Fieldnames:', [i for i in enumerate(fieldnames)])"
   ]
  },
  {
   "cell_type": "code",
   "execution_count": 4,
   "metadata": {},
   "outputs": [
    {
     "name": "stdout",
     "output_type": "stream",
     "text": [
      "All Features(50): [(0, 'gender'), (1, 'age'), (2, 'elixhauser'), (3, 're_admission'), (4, 'Weight_kg'), (5, 'GCS'), (6, 'HR'), (7, 'SysBP'), (8, 'MeanBP'), (9, 'DiaBP'), (10, 'RR'), (11, 'SpO2'), (12, 'Temp_C'), (13, 'FiO2_1'), (14, 'Potassium'), (15, 'Sodium'), (16, 'Chloride'), (17, 'Glucose'), (18, 'BUN'), (19, 'Creatinine'), (20, 'Magnesium'), (21, 'Calcium'), (22, 'Ionised_Ca'), (23, 'CO2_mEqL'), (24, 'SGOT'), (25, 'SGPT'), (26, 'Total_bili'), (27, 'Albumin'), (28, 'Hb'), (29, 'WBC_count'), (30, 'Platelets_count'), (31, 'PTT'), (32, 'PT'), (33, 'INR'), (34, 'Arterial_pH'), (35, 'paO2'), (36, 'paCO2'), (37, 'Arterial_BE'), (38, 'Arterial_lactate'), (39, 'HCO3'), (40, 'mechvent'), (41, 'Shock_Index'), (42, 'PaO2_FiO2'), (43, 'cumulated_balance'), (44, 'SOFA'), (45, 'SIRS'), (46, 'median_dose_vaso'), (47, 'max_dose_vaso'), (48, 'vaso_input'), (49, 'iv_input')]\n"
     ]
    }
   ],
   "source": [
    "all_features = fieldnames[3:7] + fieldnames[11:50] + [fieldnames[56]] + fieldnames[57:59] + fieldnames[50:52] + fieldnames[59:61]\n",
    "#features = ['Weight_kg', 'GCS', 'HR', 'SysBP', 'MeanBP', 'DiaBP', 'RR', 'SpO2', 'Temp_C', 'FiO2_1', 'Potassium', 'Sodium', 'Chloride', 'Glucose', 'BUN', 'Creatinine', 'Magnesium', 'Calcium', 'Ionised_Ca', 'CO2_mEqL', 'SGOT', 'SGPT', 'Total_bili', 'Albumin', 'Hb', 'WBC_count', 'Platelets_count', 'PTT', 'PT', 'INR', 'Arterial_pH', 'paO2', 'paCO2', 'Arterial_BE', 'Arterial_lactate', 'HCO3', 'mechvent', 'Shock_Index', 'PaO2_FiO2', 'cumulated_balance', 'SOFA', 'SIRS', 'median_dose_vaso', 'max_dose_vaso', 'vaso_input', 'iv_input']\n",
    "print(f'All Features({len(all_features)}):', [i for i in enumerate(all_features)])"
   ]
  },
  {
   "cell_type": "code",
   "execution_count": 6,
   "metadata": {},
   "outputs": [
    {
     "name": "stdout",
     "output_type": "stream",
     "text": [
      "Static Features(4): [(0, 'gender'), (1, 'age'), (2, 'elixhauser'), (3, 're_admission')]\n"
     ]
    }
   ],
   "source": [
    "static_features = fieldnames[3:7]\n",
    "print(f'Static Features({len(static_features)}):', [i for i in enumerate(static_features)])"
   ]
  },
  {
   "cell_type": "code",
   "execution_count": 7,
   "metadata": {},
   "outputs": [
    {
     "name": "stdout",
     "output_type": "stream",
     "text": [
      "labels(46): [(0, 'gender'), (1, 'age'), (2, 'elixhauser'), (3, 're_admission'), (4, 'Weight_kg'), (5, 'GCS'), (6, 'HR'), (7, 'SysBP'), (8, 'MeanBP'), (9, 'DiaBP'), (10, 'RR'), (11, 'SpO2'), (12, 'Temp_C'), (13, 'FiO2_1'), (14, 'Potassium'), (15, 'Sodium'), (16, 'Chloride'), (17, 'Glucose'), (18, 'BUN'), (19, 'Creatinine'), (20, 'Magnesium'), (21, 'Calcium'), (22, 'Ionised_Ca'), (23, 'CO2_mEqL'), (24, 'SGOT'), (25, 'SGPT'), (26, 'Total_bili'), (27, 'Albumin'), (28, 'Hb'), (29, 'WBC_count'), (30, 'Platelets_count'), (31, 'PTT'), (32, 'PT'), (33, 'INR'), (34, 'Arterial_pH'), (35, 'paO2'), (36, 'paCO2'), (37, 'Arterial_BE'), (38, 'Arterial_lactate'), (39, 'HCO3'), (40, 'mechvent'), (41, 'Shock_Index'), (42, 'PaO2_FiO2'), (43, 'cumulated_balance'), (44, 'SOFA'), (45, 'SIRS')]\n"
     ]
    }
   ],
   "source": [
    "labels = fieldnames[3:7] + fieldnames[11:50] + [fieldnames[56]] + fieldnames[57:59]\n",
    "#labels = ['Weight_kg', 'GCS', 'HR', 'SysBP', 'MeanBP', 'DiaBP', 'RR', 'SpO2', 'Temp_C', 'FiO2_1', 'Potassium', 'Sodium', 'Chloride', 'Glucose', 'BUN', 'Creatinine', 'Magnesium', 'Calcium', 'Ionised_Ca', 'CO2_mEqL', 'SGOT', 'SGPT', 'Total_bili', 'Albumin', 'Hb', 'WBC_count', 'Platelets_count', 'PTT', 'PT', 'INR', 'Arterial_pH', 'paO2', 'paCO2', 'Arterial_BE', 'Arterial_lactate', 'HCO3', 'mechvent', 'Shock_Index', 'PaO2_FiO2', 'cumulated_balance', 'SOFA', 'SIRS']\n",
    "print(f'labels({len(labels)}):', [i for i in enumerate(labels)])"
   ]
  },
  {
   "cell_type": "code",
   "execution_count": 8,
   "metadata": {},
   "outputs": [
    {
     "name": "stdout",
     "output_type": "stream",
     "text": [
      "Action Names(4): [(0, 'median_dose_vaso'), (1, 'max_dose_vaso'), (2, 'vaso_input'), (3, 'iv_input')]\n"
     ]
    }
   ],
   "source": [
    "# Just to indicate, not used.\n",
    "action_names = fieldnames[50:52] + fieldnames[59:61]\n",
    "print(f'Action Names({len(action_names)}):', [i for i in enumerate(action_names)])"
   ]
  },
  {
   "cell_type": "code",
   "execution_count": 9,
   "metadata": {},
   "outputs": [],
   "source": [
    "def get_padded_features_and_labels(data):\n",
    "    _x = []\n",
    "    _y = []\n",
    "    current_id = data[0]['icustayid']\n",
    "    temp_x = []\n",
    "    temp_y = []\n",
    "    for i in range(len(data)-1):\n",
    "        if data[i]['icustayid'] != data[i+1]['icustayid']:\n",
    "            continue\n",
    "        if data[i]['icustayid'] != current_id:\n",
    "            current_id = data[i]['icustayid']\n",
    "            _x.append(temp_x)\n",
    "            _y.append(temp_y)\n",
    "            temp_x = []\n",
    "            temp_y = []\n",
    "        temp_x.append([data[i][k] for k in all_features])\n",
    "        temp_y.append([data[i+1][k] for k in labels])\n",
    "    if temp_x != []:\n",
    "        _x.append(temp_x)\n",
    "        _y.append(temp_y)\n",
    "    _x = tf.keras.preprocessing.sequence.pad_sequences(_x, padding='pre', dtype='float64', value=0)\n",
    "    _y = tf.keras.preprocessing.sequence.pad_sequences(_y, padding='pre', dtype='float64', value=0)\n",
    "    _x = np.array(_x)\n",
    "    _y = np.array(_y)\n",
    "    _x = _x.reshape(_x.shape[0]*_x.shape[1], _x.shape[2])\n",
    "    _y = _y.reshape(_y.shape[0]*_y.shape[1], _y.shape[2])\n",
    "    return _x, _y\n",
    "\n",
    "def get_features_and_labels(data):\n",
    "    _x = []\n",
    "    _y = []\n",
    "    for i in range(len(data)-1):\n",
    "        if data[i]['icustayid'] != data[i+1]['icustayid']:\n",
    "            continue\n",
    " \n",
    "        _x.append([data[i][k] for k in all_features])\n",
    "        _y.append([data[i+1][k] for k in labels])\n",
    "    return np.array(_x), np.array(_y)\n",
    "\n",
    "def get_comparison_testing_data(data):\n",
    "    _X, _y = get_padded_features_and_labels(data)\n",
    "    _, _X_te, _, _y_te = train_test_split(_X, _y, shuffle=False, test_size=0.2)\n",
    "    X_te_comp = np.array([i for i in _X_te if not np.array_equal(i, np.zeros(50))])\n",
    "    y_te_comp = np.array([i for i in _y_te if not np.array_equal(i, np.zeros(46))])\n",
    "    return X_te_comp, y_te_comp\n"
   ]
  },
  {
   "cell_type": "code",
   "execution_count": 10,
   "metadata": {},
   "outputs": [
    {
     "name": "stdout",
     "output_type": "stream",
     "text": [
      "(393072, 50) (393072, 46)\n"
     ]
    }
   ],
   "source": [
    "X, y = get_padded_features_and_labels(data)\n",
    "\n",
    "print(X.shape, y.shape)\n",
    "\n",
    "X_tr, X_te, y_tr, y_te = train_test_split(X, y, shuffle=False, test_size=0.2)\n",
    "\n",
    "X_te_comp, y_te_comp = get_comparison_testing_data(data)\n",
    "\n",
    "# Normalize the features\n",
    "scaler_X = sk.preprocessing.StandardScaler().fit(X)\n",
    "X_tr_scaled = scaler_X.transform(X_tr)\n",
    "X_te_scaled = scaler_X.transform(X_te)\n",
    "# X_scaled = scaler_X.transform(X)\n",
    "\n",
    "\n",
    "\n",
    "# Normalize the labels\n",
    "scaler_y = sk.preprocessing.StandardScaler().fit(y)\n",
    "y_tr_scaled = scaler_y.transform(y_tr)\n",
    "y_te_scaled = scaler_y.transform(y_te)\n",
    "\n",
    "#print(X_tr_scaled.shape, X_te_scaled.shape, X_scaled.shape)#, y_tr_scaled.shape, y_te_scaled.shape)"
   ]
  },
  {
   "cell_type": "code",
   "execution_count": 11,
   "metadata": {},
   "outputs": [
    {
     "name": "stdout",
     "output_type": "stream",
     "text": [
      "X_tr_st_scaled shape::  (314457, 4)\n",
      "X_te_st_scaled shape::  (78615, 4)\n"
     ]
    }
   ],
   "source": [
    "# Extract Static features\n",
    "\n",
    "X_tr_st_scaled = X_tr_scaled[:, :4]\n",
    "\n",
    "X_te_st_scaled = X_te_scaled[:, :4]\n",
    "\n",
    "# X_te_st_unpadded_scaled = X_te_unpadded_scaled[:, :4]\n",
    "\n",
    "print(\"X_tr_st_scaled shape:: \", X_tr_st_scaled.shape)\n",
    "print(\"X_te_st_scaled shape:: \", X_te_st_scaled.shape)\n",
    "# print(\"X_te_st_unpadded_scaled shape:: \", X_te_st_unpadded_scaled.shape)\n"
   ]
  },
  {
   "cell_type": "markdown",
   "metadata": {},
   "source": [
    "# Hyperparameter Tuning"
   ]
  },
  {
   "cell_type": "code",
   "execution_count": 11,
   "metadata": {
    "execution": {
     "iopub.execute_input": "2024-02-23T00:22:34.706321Z",
     "iopub.status.busy": "2024-02-23T00:22:34.706036Z",
     "iopub.status.idle": "2024-02-23T00:22:34.719765Z",
     "shell.execute_reply": "2024-02-23T00:22:34.718997Z",
     "shell.execute_reply.started": "2024-02-23T00:22:34.706286Z"
    }
   },
   "outputs": [],
   "source": [
    "def model_builder(hp):\n",
    "    def transformer_encoder(inputs, head_size, num_heads, ff_dim, dropout=0):\n",
    "        # Attention and Normalization\n",
    "        x = LayerNormalization(epsilon=1e-6)(inputs)\n",
    "        x = MultiHeadAttention(key_dim=head_size, num_heads=num_heads, dropout=dropout)(x, x)\n",
    "        x = Dropout(dropout)(x)\n",
    "        res = x + inputs\n",
    "\n",
    "        # Feed Forward Part\n",
    "        x = LayerNormalization(epsilon=1e-6)(res)\n",
    "        x = Dense(ff_dim, activation=\"relu\")(x)\n",
    "        x = Dropout(dropout)(x)\n",
    "        x = Dense(inputs.shape[-1])(x)\n",
    "        return x + res\n",
    "\n",
    "    def build_transformer_model(input_shape, head_size, num_heads, ff_dim, num_layers, dropout=0):\n",
    "        static_inputs = tf.keras.Input(shape=(len(static_features)))\n",
    "        mixed_inputs = Input(shape=input_shape)\n",
    "        x = mixed_inputs\n",
    "\n",
    "        # Build Encoder Layers\n",
    "        for _ in range(num_layers):\n",
    "            x = transformer_encoder(x, head_size, num_heads, ff_dim, dropout)\n",
    "\n",
    "        # Final Layer\n",
    "        x = Flatten()(x)\n",
    "        static_outputs = (static_inputs)\n",
    "        mixed_outputs = Dense(42, activation=\"linear\")(x)\n",
    "        main_outputs = tf.keras.layers.concatenate([static_outputs, mixed_outputs])\n",
    "\n",
    "        model = Model([static_inputs, mixed_inputs], main_outputs)\n",
    "        return model\n",
    "\n",
    "    # Model Parameters\n",
    "    input_shape = (1, 50) \n",
    "    hp_units1 = hp.Int('units1', min_value=64, max_value=1280, step=64)\n",
    "    head_size = hp_units1\n",
    "    hp_units2 = hp.Int('units2', min_value=2, max_value=16, step=2)\n",
    "    num_heads = hp_units2\n",
    "    hp_units3 = hp.Int('units3', min_value=64, max_value=512, step=32)\n",
    "    ff_dim = hp_units3\n",
    "    num_layers = 2\n",
    "    dropout = 0.0\n",
    "\n",
    "    # Build and Compile Model\n",
    "    model = build_transformer_model(input_shape, head_size, num_heads, ff_dim, num_layers, dropout)\n",
    "    hp_lr = hp.Choice('learning_rate', values=[0.1, 0.05, 0.01, 0.005, 0.001, 0.0005, 0.0001])\n",
    "    opt = keras.optimizers.Adam(learning_rate=hp_lr) #set=0.005, #default=0.001\n",
    "    model.compile(optimizer=opt, loss=\"mean_squared_error\")\n",
    "\n",
    "#     model.summary()\n",
    "    return model"
   ]
  },
  {
   "cell_type": "code",
   "execution_count": 14,
   "metadata": {
    "execution": {
     "iopub.execute_input": "2024-02-23T01:47:55.378426Z",
     "iopub.status.busy": "2024-02-23T01:47:55.378096Z",
     "iopub.status.idle": "2024-02-23T02:38:22.995102Z",
     "shell.execute_reply": "2024-02-23T02:38:22.994241Z",
     "shell.execute_reply.started": "2024-02-23T01:47:55.378400Z"
    }
   },
   "outputs": [
    {
     "name": "stdout",
     "output_type": "stream",
     "text": [
      "Trial 90 Complete [00h 01m 59s]\n",
      "val_loss: 1.9870116710662842\n",
      "\n",
      "Best val_loss So Far: 0.13094863295555115\n",
      "Total elapsed time: 02h 15m 47s\n"
     ]
    }
   ],
   "source": [
    "X_tr_reshaped = X_tr_scaled.reshape((X_tr_scaled.shape[0], \n",
    "                                    1, X_tr_scaled.shape[1]))\n",
    "X_te_reshaped = X_te_scaled.reshape((X_te_scaled.shape[0], \n",
    "                                    1, X_te_scaled.shape[1]))\n",
    "\n",
    "tuner = kt.Hyperband(model_builder,\n",
    "                     objective='val_loss',\n",
    "                     max_epochs=50,\n",
    "                     factor=3)\n",
    "earlystop = tf.keras.callbacks.EarlyStopping(monitor='val_loss',\n",
    "                                             patience=5)\n",
    "tuner.search([X_tr_st_scaled, X_tr_reshaped], y_tr_scaled, epochs=50, batch_size=512,\n",
    "                    shuffle=False,\n",
    "                    validation_data=([X_te_st_scaled, X_te_reshaped], y_te_scaled), \n",
    "                    callbacks=[earlystop])\n",
    "best_hps=tuner.get_best_hyperparameters(num_trials=1)[0]"
   ]
  },
  {
   "cell_type": "code",
   "execution_count": 15,
   "metadata": {
    "execution": {
     "iopub.execute_input": "2024-02-23T02:38:22.997314Z",
     "iopub.status.busy": "2024-02-23T02:38:22.996879Z",
     "iopub.status.idle": "2024-02-23T02:38:23.003130Z",
     "shell.execute_reply": "2024-02-23T02:38:23.002227Z",
     "shell.execute_reply.started": "2024-02-23T02:38:22.997277Z"
    }
   },
   "outputs": [
    {
     "name": "stdout",
     "output_type": "stream",
     "text": [
      "64\n",
      "16\n",
      "288\n",
      "0.0005\n"
     ]
    }
   ],
   "source": [
    "print(best_hps.get('units1'))\n",
    "print(best_hps.get('units2'))\n",
    "print(best_hps.get('units3'))\n",
    "print(best_hps.get('learning_rate'))"
   ]
  },
  {
   "cell_type": "markdown",
   "metadata": {},
   "source": [
    "Transformer:: 64(head size), 16(num heads), 288(ff dim), 0.0005(lr)"
   ]
  },
  {
   "cell_type": "markdown",
   "metadata": {},
   "source": [
    "# End Tuning"
   ]
  },
  {
   "cell_type": "code",
   "execution_count": 12,
   "metadata": {},
   "outputs": [
    {
     "name": "stdout",
     "output_type": "stream",
     "text": [
      "Model: \"model\"\n",
      "__________________________________________________________________________________________________\n",
      "Layer (type)                    Output Shape         Param #     Connected to                     \n",
      "==================================================================================================\n",
      "input_1 (InputLayer)            [(None, 1, 50)]      0                                            \n",
      "__________________________________________________________________________________________________\n",
      "layer_normalization (LayerNorma (None, 1, 50)        100         input_1[0][0]                    \n",
      "__________________________________________________________________________________________________\n",
      "multi_head_attention (MultiHead (None, 1, 50)        207922      layer_normalization[0][0]        \n",
      "                                                                 layer_normalization[0][0]        \n",
      "__________________________________________________________________________________________________\n",
      "dropout (Dropout)               (None, 1, 50)        0           multi_head_attention[0][0]       \n",
      "__________________________________________________________________________________________________\n",
      "tf.__operators__.add (TFOpLambd (None, 1, 50)        0           dropout[0][0]                    \n",
      "                                                                 input_1[0][0]                    \n",
      "__________________________________________________________________________________________________\n",
      "layer_normalization_1 (LayerNor (None, 1, 50)        100         tf.__operators__.add[0][0]       \n",
      "__________________________________________________________________________________________________\n",
      "dense (Dense)                   (None, 1, 288)       14688       layer_normalization_1[0][0]      \n",
      "__________________________________________________________________________________________________\n",
      "dropout_1 (Dropout)             (None, 1, 288)       0           dense[0][0]                      \n",
      "__________________________________________________________________________________________________\n",
      "dense_1 (Dense)                 (None, 1, 50)        14450       dropout_1[0][0]                  \n",
      "__________________________________________________________________________________________________\n",
      "tf.__operators__.add_1 (TFOpLam (None, 1, 50)        0           dense_1[0][0]                    \n",
      "                                                                 tf.__operators__.add[0][0]       \n",
      "__________________________________________________________________________________________________\n",
      "layer_normalization_2 (LayerNor (None, 1, 50)        100         tf.__operators__.add_1[0][0]     \n",
      "__________________________________________________________________________________________________\n",
      "multi_head_attention_1 (MultiHe (None, 1, 50)        207922      layer_normalization_2[0][0]      \n",
      "                                                                 layer_normalization_2[0][0]      \n",
      "__________________________________________________________________________________________________\n",
      "dropout_2 (Dropout)             (None, 1, 50)        0           multi_head_attention_1[0][0]     \n",
      "__________________________________________________________________________________________________\n",
      "tf.__operators__.add_2 (TFOpLam (None, 1, 50)        0           dropout_2[0][0]                  \n",
      "                                                                 tf.__operators__.add_1[0][0]     \n",
      "__________________________________________________________________________________________________\n",
      "layer_normalization_3 (LayerNor (None, 1, 50)        100         tf.__operators__.add_2[0][0]     \n",
      "__________________________________________________________________________________________________\n",
      "dense_2 (Dense)                 (None, 1, 288)       14688       layer_normalization_3[0][0]      \n",
      "__________________________________________________________________________________________________\n",
      "dropout_3 (Dropout)             (None, 1, 288)       0           dense_2[0][0]                    \n",
      "__________________________________________________________________________________________________\n",
      "dense_3 (Dense)                 (None, 1, 50)        14450       dropout_3[0][0]                  \n",
      "__________________________________________________________________________________________________\n",
      "tf.__operators__.add_3 (TFOpLam (None, 1, 50)        0           dense_3[0][0]                    \n",
      "                                                                 tf.__operators__.add_2[0][0]     \n",
      "__________________________________________________________________________________________________\n",
      "flatten (Flatten)               (None, 50)           0           tf.__operators__.add_3[0][0]     \n",
      "__________________________________________________________________________________________________\n",
      "dense_4 (Dense)                 (None, 46)           2346        flatten[0][0]                    \n",
      "==================================================================================================\n",
      "Total params: 476,866\n",
      "Trainable params: 476,866\n",
      "Non-trainable params: 0\n",
      "__________________________________________________________________________________________________\n"
     ]
    }
   ],
   "source": [
    "def transformer_encoder(inputs, head_size, num_heads, ff_dim, dropout=0):\n",
    "    # Attention and Normalization\n",
    "    x = LayerNormalization(epsilon=1e-6)(inputs)\n",
    "    x = MultiHeadAttention(key_dim=head_size, num_heads=num_heads, dropout=dropout)(x, x)\n",
    "    x = Dropout(dropout)(x)\n",
    "    res = x + inputs\n",
    "    \n",
    "    # Feed Forward Part\n",
    "    x = LayerNormalization(epsilon=1e-6)(res)\n",
    "    x = Dense(ff_dim, activation=\"relu\")(x)\n",
    "    x = Dropout(dropout)(x)\n",
    "    x = Dense(inputs.shape[-1])(x)\n",
    "    return x + res\n",
    "\n",
    "def build_transformer_model(input_shape, head_size, num_heads, ff_dim, num_layers, dropout=0):\n",
    "    inputs = Input(shape=input_shape)\n",
    "    x = inputs\n",
    "    \n",
    "    # Build Encoder Layers\n",
    "    for _ in range(num_layers):\n",
    "        x = transformer_encoder(x, head_size, num_heads, ff_dim, dropout)\n",
    "    \n",
    "    # Final Layer\n",
    "    x = Flatten()(x)\n",
    "    outputs = Dense(46, activation=\"linear\")(x)\n",
    "    \n",
    "    model = Model(inputs, outputs)\n",
    "    return model\n",
    "\n",
    "# Model Parameters\n",
    "input_shape = (1, 50)\n",
    "head_size = 64\n",
    "num_heads = 16\n",
    "ff_dim = 288\n",
    "num_layers = 2\n",
    "dropout = 0.0\n",
    "\n",
    "# Build and Compile Model\n",
    "model = build_transformer_model(input_shape, head_size, num_heads, ff_dim, num_layers, dropout)\n",
    "opt = keras.optimizers.Adam(learning_rate=0.0005)\n",
    "model.compile(optimizer=\"adam\", loss=\"mean_squared_error\")\n",
    "\n",
    "model.summary()"
   ]
  },
  {
   "cell_type": "code",
   "execution_count": 13,
   "metadata": {},
   "outputs": [
    {
     "name": "stdout",
     "output_type": "stream",
     "text": [
      "Epoch 1/100\n",
      "308/308 [==============================] - 9s 16ms/step - loss: 0.2512 - val_loss: 0.1564\n",
      "Epoch 2/100\n",
      "308/308 [==============================] - 5s 15ms/step - loss: 0.1663 - val_loss: 0.1448\n",
      "Epoch 3/100\n",
      "308/308 [==============================] - 5s 15ms/step - loss: 0.1545 - val_loss: 0.1403\n",
      "Epoch 4/100\n",
      "308/308 [==============================] - 5s 15ms/step - loss: 0.1494 - val_loss: 0.1390\n",
      "Epoch 5/100\n",
      "308/308 [==============================] - 5s 15ms/step - loss: 0.1458 - val_loss: 0.1367\n",
      "Epoch 6/100\n",
      "308/308 [==============================] - 4s 14ms/step - loss: 0.1435 - val_loss: 0.1361\n",
      "Epoch 7/100\n",
      "308/308 [==============================] - 4s 14ms/step - loss: 0.1419 - val_loss: 0.1362\n",
      "Epoch 8/100\n",
      "308/308 [==============================] - 5s 15ms/step - loss: 0.1409 - val_loss: 0.1345\n",
      "Epoch 9/100\n",
      "308/308 [==============================] - 5s 15ms/step - loss: 0.1395 - val_loss: 0.1357\n",
      "Epoch 10/100\n",
      "308/308 [==============================] - 4s 14ms/step - loss: 0.1387 - val_loss: 0.1337\n",
      "Epoch 11/100\n",
      "308/308 [==============================] - 4s 14ms/step - loss: 0.1378 - val_loss: 0.1360\n",
      "Epoch 12/100\n",
      "308/308 [==============================] - 5s 15ms/step - loss: 0.1376 - val_loss: 0.1333\n",
      "Epoch 13/100\n",
      "308/308 [==============================] - 5s 15ms/step - loss: 0.1369 - val_loss: 0.1331\n",
      "Epoch 14/100\n",
      "308/308 [==============================] - 5s 15ms/step - loss: 0.1365 - val_loss: 0.1330\n",
      "Epoch 15/100\n",
      "308/308 [==============================] - 5s 15ms/step - loss: 0.1362 - val_loss: 0.1325\n",
      "Epoch 16/100\n",
      "308/308 [==============================] - 5s 15ms/step - loss: 0.1360 - val_loss: 0.1340\n",
      "Epoch 17/100\n",
      "308/308 [==============================] - 5s 15ms/step - loss: 0.1358 - val_loss: 0.1320\n",
      "Epoch 18/100\n",
      "308/308 [==============================] - 5s 15ms/step - loss: 0.1351 - val_loss: 0.1321\n",
      "Epoch 19/100\n",
      "308/308 [==============================] - 5s 15ms/step - loss: 0.1350 - val_loss: 0.1311\n",
      "Epoch 20/100\n",
      "308/308 [==============================] - 5s 15ms/step - loss: 0.1348 - val_loss: 0.1317\n",
      "Epoch 21/100\n",
      "308/308 [==============================] - 5s 15ms/step - loss: 0.1344 - val_loss: 0.1316\n",
      "Epoch 22/100\n",
      "308/308 [==============================] - 5s 16ms/step - loss: 0.1342 - val_loss: 0.1330\n",
      "Epoch 23/100\n",
      "308/308 [==============================] - 4s 14ms/step - loss: 0.1340 - val_loss: 0.1313\n",
      "Epoch 24/100\n",
      "308/308 [==============================] - 4s 14ms/step - loss: 0.1337 - val_loss: 0.1310\n",
      "Epoch 25/100\n",
      "308/308 [==============================] - 4s 14ms/step - loss: 0.1338 - val_loss: 0.1317\n",
      "Epoch 26/100\n",
      "308/308 [==============================] - 5s 15ms/step - loss: 0.1331 - val_loss: 0.1306\n",
      "Epoch 27/100\n",
      "308/308 [==============================] - 5s 15ms/step - loss: 0.1328 - val_loss: 0.1323\n",
      "Epoch 28/100\n",
      "308/308 [==============================] - 5s 15ms/step - loss: 0.1331 - val_loss: 0.1305\n",
      "Epoch 29/100\n",
      "308/308 [==============================] - 4s 15ms/step - loss: 0.1324 - val_loss: 0.1310\n",
      "Epoch 30/100\n",
      "308/308 [==============================] - 4s 14ms/step - loss: 0.1325 - val_loss: 0.1322\n",
      "Epoch 31/100\n",
      "308/308 [==============================] - 5s 15ms/step - loss: 0.1319 - val_loss: 0.1318\n",
      "Epoch 32/100\n",
      "308/308 [==============================] - 4s 14ms/step - loss: 0.1320 - val_loss: 0.1311\n",
      "Epoch 33/100\n",
      "308/308 [==============================] - 5s 15ms/step - loss: 0.1321 - val_loss: 0.1311\n",
      "Epoch 34/100\n",
      "308/308 [==============================] - 5s 15ms/step - loss: 0.1314 - val_loss: 0.1311\n",
      "Epoch 35/100\n",
      "308/308 [==============================] - 4s 14ms/step - loss: 0.1313 - val_loss: 0.1311\n",
      "Epoch 00035: early stopping\n"
     ]
    },
    {
     "data": {
      "text/plain": [
       "<keras.callbacks.History at 0x21113ba1430>"
      ]
     },
     "execution_count": 13,
     "metadata": {},
     "output_type": "execute_result"
    }
   ],
   "source": [
    "X_tr_reshaped = X_tr_scaled.reshape((X_tr_scaled.shape[0], \n",
    "                                    1, X_tr_scaled.shape[1]))\n",
    "X_te_reshaped = X_te_scaled.reshape((X_te_scaled.shape[0], \n",
    "                                    1, X_te_scaled.shape[1]))\n",
    "\n",
    "earlystop = tf.keras.callbacks.EarlyStopping(monitor='val_loss',\n",
    "                                             mode='min',\n",
    "                                             min_delta=0,\n",
    "                                             patience=7,\n",
    "                                             verbose=1)\n",
    "\n",
    "model.fit(X_tr_reshaped, y_tr_scaled, \n",
    "          validation_data=(X_te_reshaped, y_te_scaled), \n",
    "          epochs=100, batch_size=1024, verbose=1, callbacks=[earlystop])"
   ]
  },
  {
   "cell_type": "code",
   "execution_count": 14,
   "metadata": {},
   "outputs": [],
   "source": [
    "def get_prediction_mse(model, X, y):\n",
    "    _X = scaler_X.transform(X)\n",
    "    _y = scaler_y.transform(y)\n",
    "    _X_st = _X[:, :4]\n",
    "    _X = _X.reshape((_X.shape[0], 1, _X.shape[1]))\n",
    "    prediction = model.predict(_X)\n",
    "#     prediction = scaler_y.inverse_transform(prediction)\n",
    "    prediction[:, :4] = _X_st#[:, :4]\n",
    "#     prediction = prediction[:, :46]\n",
    "    error = sk.metrics.mean_squared_error(prediction, _y)\n",
    "    return error"
   ]
  },
  {
   "cell_type": "code",
   "execution_count": 15,
   "metadata": {},
   "outputs": [
    {
     "name": "stdout",
     "output_type": "stream",
     "text": [
      "0.13034162485934567\n",
      "0.13087883175968082\n",
      "0.20063597817065362\n"
     ]
    }
   ],
   "source": [
    "print(get_prediction_mse(model, X_tr, y_tr))\n",
    "print(get_prediction_mse(model, X_te, y_te))\n",
    "print(get_prediction_mse(model, X_te_comp, y_te_comp))"
   ]
  },
  {
   "cell_type": "code",
   "execution_count": 16,
   "metadata": {},
   "outputs": [
    {
     "name": "stderr",
     "output_type": "stream",
     "text": [
      "WARNING:absl:Found untraced functions such as query_layer_call_fn, query_layer_call_and_return_conditional_losses, key_layer_call_fn, key_layer_call_and_return_conditional_losses, value_layer_call_fn while saving (showing 5 of 60). These functions will not be directly callable after loading.\n"
     ]
    },
    {
     "name": "stdout",
     "output_type": "stream",
     "text": [
      "INFO:tensorflow:Assets written to: saved_models/transformer\\assets\n"
     ]
    },
    {
     "name": "stderr",
     "output_type": "stream",
     "text": [
      "INFO:tensorflow:Assets written to: saved_models/transformer\\assets\n"
     ]
    }
   ],
   "source": [
    "model.save('saved_models/transformer')"
   ]
  },
  {
   "cell_type": "code",
   "execution_count": 17,
   "metadata": {},
   "outputs": [],
   "source": [
    "temp_model = tf.keras.models.load_model('saved_models/transformer')"
   ]
  },
  {
   "cell_type": "code",
   "execution_count": 18,
   "metadata": {},
   "outputs": [
    {
     "name": "stdout",
     "output_type": "stream",
     "text": [
      "0.13034162485934567\n",
      "0.13087883175968082\n",
      "0.20063597817065362\n"
     ]
    }
   ],
   "source": [
    "print(get_prediction_mse(temp_model, X_tr, y_tr))\n",
    "print(get_prediction_mse(temp_model, X_te, y_te))\n",
    "print(get_prediction_mse(temp_model, X_te_comp, y_te_comp))"
   ]
  },
  {
   "cell_type": "code",
   "execution_count": null,
   "metadata": {},
   "outputs": [],
   "source": []
  }
 ],
 "metadata": {
  "kaggle": {
   "accelerator": "nvidiaTeslaT4",
   "dataSources": [
    {
     "datasetId": 4481748,
     "sourceId": 7681521,
     "sourceType": "datasetVersion"
    }
   ],
   "dockerImageVersionId": 30648,
   "isGpuEnabled": true,
   "isInternetEnabled": true,
   "language": "python",
   "sourceType": "notebook"
  },
  "kernelspec": {
   "display_name": "Python 3 (ipykernel)",
   "language": "python",
   "name": "python3"
  },
  "language_info": {
   "codemirror_mode": {
    "name": "ipython",
    "version": 3
   },
   "file_extension": ".py",
   "mimetype": "text/x-python",
   "name": "python",
   "nbconvert_exporter": "python",
   "pygments_lexer": "ipython3",
   "version": "3.8.15"
  }
 },
 "nbformat": 4,
 "nbformat_minor": 4
}
