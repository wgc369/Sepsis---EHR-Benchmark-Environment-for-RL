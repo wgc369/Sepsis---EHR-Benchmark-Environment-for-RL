{
 "cells": [
  {
   "cell_type": "code",
   "execution_count": 1,
   "metadata": {
    "_cell_guid": "b1076dfc-b9ad-4769-8c92-a6c4dae69d19",
    "_uuid": "8f2839f25d086af736a60e9eeb907d3b93b6e0e5"
   },
   "outputs": [],
   "source": [
    "import numpy as np\n",
    "import csv\n",
    "# import math\n",
    "# import random\n",
    "from sklearn.model_selection import train_test_split\n",
    "# from sklearn.feature_selection import mutual_info_classif\n",
    "# from sklearn.feature_selection import VarianceThreshold\n",
    "import matplotlib.pyplot as plt\n",
    "import pandas as pd\n",
    "from sklearn.preprocessing import StandardScaler\n",
    "# from tensorflow.keras.models import Sequential\n",
    "from tensorflow.keras.layers import LSTM, Dense, Dropout\n",
    "from tensorflow import keras\n",
    "import tensorflow as tf\n",
    "# import keras_tuner as kt\n",
    "import sklearn as sk\n",
    "from sklearn.metrics import mean_squared_error\n",
    "import pickle"
   ]
  },
  {
   "cell_type": "code",
   "execution_count": 2,
   "metadata": {},
   "outputs": [],
   "source": [
    "def read_data(filename):\n",
    "    df = pd.read_csv(filename, dtype='float64')\n",
    "    fieldnames = list(df.columns)\n",
    "    data = np.array(df.to_dict(orient='records'))\n",
    "    return data, fieldnames"
   ]
  },
  {
   "cell_type": "code",
   "execution_count": 3,
   "metadata": {},
   "outputs": [],
   "source": [
    "data, fieldnames = read_data('dataset/rl_data_final_cont.csv')"
   ]
  },
  {
   "cell_type": "code",
   "execution_count": 4,
   "metadata": {},
   "outputs": [
    {
     "name": "stdout",
     "output_type": "stream",
     "text": [
      "All Fieldnames(62): [(0, 'bloc'), (1, 'icustayid'), (2, 'charttime'), (3, 'gender'), (4, 'age'), (5, 'elixhauser'), (6, 're_admission'), (7, 'died_in_hosp'), (8, 'died_within_48h_of_out_time'), (9, 'mortality_90d'), (10, 'delay_end_of_record_and_discharge_or_death'), (11, 'Weight_kg'), (12, 'GCS'), (13, 'HR'), (14, 'SysBP'), (15, 'MeanBP'), (16, 'DiaBP'), (17, 'RR'), (18, 'SpO2'), (19, 'Temp_C'), (20, 'FiO2_1'), (21, 'Potassium'), (22, 'Sodium'), (23, 'Chloride'), (24, 'Glucose'), (25, 'BUN'), (26, 'Creatinine'), (27, 'Magnesium'), (28, 'Calcium'), (29, 'Ionised_Ca'), (30, 'CO2_mEqL'), (31, 'SGOT'), (32, 'SGPT'), (33, 'Total_bili'), (34, 'Albumin'), (35, 'Hb'), (36, 'WBC_count'), (37, 'Platelets_count'), (38, 'PTT'), (39, 'PT'), (40, 'INR'), (41, 'Arterial_pH'), (42, 'paO2'), (43, 'paCO2'), (44, 'Arterial_BE'), (45, 'Arterial_lactate'), (46, 'HCO3'), (47, 'mechvent'), (48, 'Shock_Index'), (49, 'PaO2_FiO2'), (50, 'median_dose_vaso'), (51, 'max_dose_vaso'), (52, 'input_total'), (53, 'input_4hourly'), (54, 'output_total'), (55, 'output_4hourly'), (56, 'cumulated_balance'), (57, 'SOFA'), (58, 'SIRS'), (59, 'vaso_input'), (60, 'iv_input'), (61, 'reward')]\n"
     ]
    }
   ],
   "source": [
    "print(f'All Fieldnames({len(fieldnames)}):', [i for i in enumerate(fieldnames)])"
   ]
  },
  {
   "cell_type": "code",
   "execution_count": 5,
   "metadata": {},
   "outputs": [
    {
     "name": "stdout",
     "output_type": "stream",
     "text": [
      "All Features(50): [(0, 'gender'), (1, 'age'), (2, 'elixhauser'), (3, 're_admission'), (4, 'Weight_kg'), (5, 'GCS'), (6, 'HR'), (7, 'SysBP'), (8, 'MeanBP'), (9, 'DiaBP'), (10, 'RR'), (11, 'SpO2'), (12, 'Temp_C'), (13, 'FiO2_1'), (14, 'Potassium'), (15, 'Sodium'), (16, 'Chloride'), (17, 'Glucose'), (18, 'BUN'), (19, 'Creatinine'), (20, 'Magnesium'), (21, 'Calcium'), (22, 'Ionised_Ca'), (23, 'CO2_mEqL'), (24, 'SGOT'), (25, 'SGPT'), (26, 'Total_bili'), (27, 'Albumin'), (28, 'Hb'), (29, 'WBC_count'), (30, 'Platelets_count'), (31, 'PTT'), (32, 'PT'), (33, 'INR'), (34, 'Arterial_pH'), (35, 'paO2'), (36, 'paCO2'), (37, 'Arterial_BE'), (38, 'Arterial_lactate'), (39, 'HCO3'), (40, 'mechvent'), (41, 'Shock_Index'), (42, 'PaO2_FiO2'), (43, 'cumulated_balance'), (44, 'SOFA'), (45, 'SIRS'), (46, 'median_dose_vaso'), (47, 'max_dose_vaso'), (48, 'vaso_input'), (49, 'iv_input')]\n"
     ]
    }
   ],
   "source": [
    "all_features = fieldnames[3:7] + fieldnames[11:50] + [fieldnames[56]] + fieldnames[57:59] + fieldnames[50:52] + fieldnames[59:61]\n",
    "#features = ['Weight_kg', 'GCS', 'HR', 'SysBP', 'MeanBP', 'DiaBP', 'RR', 'SpO2', 'Temp_C', 'FiO2_1', 'Potassium', 'Sodium', 'Chloride', 'Glucose', 'BUN', 'Creatinine', 'Magnesium', 'Calcium', 'Ionised_Ca', 'CO2_mEqL', 'SGOT', 'SGPT', 'Total_bili', 'Albumin', 'Hb', 'WBC_count', 'Platelets_count', 'PTT', 'PT', 'INR', 'Arterial_pH', 'paO2', 'paCO2', 'Arterial_BE', 'Arterial_lactate', 'HCO3', 'mechvent', 'Shock_Index', 'PaO2_FiO2', 'cumulated_balance', 'SOFA', 'SIRS', 'median_dose_vaso', 'max_dose_vaso', 'vaso_input', 'iv_input']\n",
    "print(f'All Features({len(all_features)}):', [i for i in enumerate(all_features)])"
   ]
  },
  {
   "cell_type": "markdown",
   "metadata": {},
   "source": [
    "# Static Variables\n",
    "After I ran an algorithm on the dataset, I found that for each icustayid, only below variables stay constant."
   ]
  },
  {
   "cell_type": "code",
   "execution_count": 6,
   "metadata": {},
   "outputs": [
    {
     "name": "stdout",
     "output_type": "stream",
     "text": [
      "Static Features(4): [(0, 'gender'), (1, 'age'), (2, 'elixhauser'), (3, 're_admission')]\n"
     ]
    }
   ],
   "source": [
    "static_features = fieldnames[3:7]\n",
    "print(f'Static Features({len(static_features)}):', [i for i in enumerate(static_features)])"
   ]
  },
  {
   "cell_type": "code",
   "execution_count": 7,
   "metadata": {},
   "outputs": [
    {
     "name": "stdout",
     "output_type": "stream",
     "text": [
      "labels(46): [(0, 'gender'), (1, 'age'), (2, 'elixhauser'), (3, 're_admission'), (4, 'Weight_kg'), (5, 'GCS'), (6, 'HR'), (7, 'SysBP'), (8, 'MeanBP'), (9, 'DiaBP'), (10, 'RR'), (11, 'SpO2'), (12, 'Temp_C'), (13, 'FiO2_1'), (14, 'Potassium'), (15, 'Sodium'), (16, 'Chloride'), (17, 'Glucose'), (18, 'BUN'), (19, 'Creatinine'), (20, 'Magnesium'), (21, 'Calcium'), (22, 'Ionised_Ca'), (23, 'CO2_mEqL'), (24, 'SGOT'), (25, 'SGPT'), (26, 'Total_bili'), (27, 'Albumin'), (28, 'Hb'), (29, 'WBC_count'), (30, 'Platelets_count'), (31, 'PTT'), (32, 'PT'), (33, 'INR'), (34, 'Arterial_pH'), (35, 'paO2'), (36, 'paCO2'), (37, 'Arterial_BE'), (38, 'Arterial_lactate'), (39, 'HCO3'), (40, 'mechvent'), (41, 'Shock_Index'), (42, 'PaO2_FiO2'), (43, 'cumulated_balance'), (44, 'SOFA'), (45, 'SIRS')]\n"
     ]
    }
   ],
   "source": [
    "labels = fieldnames[3:7] + fieldnames[11:50] + [fieldnames[56]] + fieldnames[57:59]\n",
    "#labels = ['Weight_kg', 'GCS', 'HR', 'SysBP', 'MeanBP', 'DiaBP', 'RR', 'SpO2', 'Temp_C', 'FiO2_1', 'Potassium', 'Sodium', 'Chloride', 'Glucose', 'BUN', 'Creatinine', 'Magnesium', 'Calcium', 'Ionised_Ca', 'CO2_mEqL', 'SGOT', 'SGPT', 'Total_bili', 'Albumin', 'Hb', 'WBC_count', 'Platelets_count', 'PTT', 'PT', 'INR', 'Arterial_pH', 'paO2', 'paCO2', 'Arterial_BE', 'Arterial_lactate', 'HCO3', 'mechvent', 'Shock_Index', 'PaO2_FiO2', 'cumulated_balance', 'SOFA', 'SIRS']\n",
    "print(f'labels({len(labels)}):', [i for i in enumerate(labels)])"
   ]
  },
  {
   "cell_type": "code",
   "execution_count": 8,
   "metadata": {},
   "outputs": [
    {
     "name": "stdout",
     "output_type": "stream",
     "text": [
      "Action Names(4): [(0, 'median_dose_vaso'), (1, 'max_dose_vaso'), (2, 'vaso_input'), (3, 'iv_input')]\n"
     ]
    }
   ],
   "source": [
    "# Just to indicate, not used.\n",
    "action_names = fieldnames[50:52] + fieldnames[59:61]\n",
    "print(f'Action Names({len(action_names)}):', [i for i in enumerate(action_names)])"
   ]
  },
  {
   "cell_type": "markdown",
   "metadata": {},
   "source": [
    "# Get features and labels and pre-pad as necessary\n",
    "The length of icustayid sequences vary in the dataset, so I added additional rows of zeros as padding between icustayid sequences as necessary. This is for increasing the performance of LSTM."
   ]
  },
  {
   "cell_type": "code",
   "execution_count": 9,
   "metadata": {},
   "outputs": [],
   "source": [
    "def get_features_and_labels(data):\n",
    "    _x = []\n",
    "    _y = []\n",
    "    current_id = data[0]['icustayid']\n",
    "    temp_x = []\n",
    "    temp_y = []\n",
    "    for i in range(len(data)-1):\n",
    "        if data[i]['icustayid'] != data[i+1]['icustayid']:\n",
    "            continue\n",
    "        if data[i]['icustayid'] != current_id:\n",
    "            current_id = data[i]['icustayid']\n",
    "            _x.append(temp_x)\n",
    "            _y.append(temp_y)\n",
    "            temp_x = []\n",
    "            temp_y = []\n",
    "        temp_x.append([data[i][k] for k in all_features])\n",
    "        temp_y.append([data[i+1][k] for k in labels])\n",
    "    if temp_x != []:\n",
    "        _x.append(temp_x)\n",
    "        _y.append(temp_y)\n",
    "    _x = tf.keras.preprocessing.sequence.pad_sequences(_x, padding='pre', dtype='float64', value=0)\n",
    "    _y = tf.keras.preprocessing.sequence.pad_sequences(_y, padding='pre', dtype='float64', value=0)\n",
    "    _x = np.array(_x)\n",
    "    _y = np.array(_y)\n",
    "    _x = _x.reshape(_x.shape[0]*_x.shape[1], _x.shape[2])\n",
    "    _y = _y.reshape(_y.shape[0]*_y.shape[1], _y.shape[2])\n",
    "    return _x, _y\n",
    "\n",
    "# def get_features_and_labels(data):\n",
    "#     _x = []\n",
    "#     _y = []\n",
    "#     for i in range(len(data)-1):\n",
    "#         if data[i]['icustayid'] != data[i+1]['icustayid']:\n",
    "#             continue\n",
    " \n",
    "#         _x.append([data[i][k] for k in all_features])\n",
    "#         _y.append([data[i+1][k] for k in labels])\n",
    "#     return np.array(_x), np.array(_y)"
   ]
  },
  {
   "cell_type": "markdown",
   "metadata": {},
   "source": [
    "# Train-test split and data normalization"
   ]
  },
  {
   "cell_type": "code",
   "execution_count": 10,
   "metadata": {},
   "outputs": [
    {
     "name": "stdout",
     "output_type": "stream",
     "text": [
      "(393072, 50) (393072, 46)\n",
      "(314457, 50) (78615, 50) (314457, 46) (78615, 46)\n"
     ]
    }
   ],
   "source": [
    "X, y = get_features_and_labels(data)\n",
    "print(X.shape, y.shape)\n",
    "\n",
    "X_tr, X_te, y_tr, y_te = train_test_split(X, y, shuffle=False, test_size=0.2)\n",
    "\n",
    "X_te_comp = np.array([i for i in X_te if not np.array_equal(i, np.zeros(50))])\n",
    "y_te_comp = np.array([i for i in y_te if not np.array_equal(i, np.zeros(46))])\n",
    "\n",
    "# Normalize the features\n",
    "scaler_X = sk.preprocessing.StandardScaler().fit(X)\n",
    "X_tr_scaled = scaler_X.transform(X_tr)\n",
    "X_te_scaled = scaler_X.transform(X_te)\n",
    "# X_te_unpadded_scaled = scaler_X.transform(X_te_unpadded)\n",
    "\n",
    "# Normalize the labels\n",
    "scaler_y = sk.preprocessing.StandardScaler().fit(y)\n",
    "y_tr_scaled = scaler_y.transform(y_tr)\n",
    "y_te_scaled = scaler_y.transform(y_te)\n",
    "# y_te_unpadded_scaled = scaler_y.transform(y_te_unpadded)\n",
    "\n",
    "print(X_tr_scaled.shape, X_te_scaled.shape, y_tr_scaled.shape, y_te_scaled.shape)\n",
    "# print(X_te_unpadded_scaled.shape, y_te_unpadded_scaled.shape)"
   ]
  },
  {
   "cell_type": "code",
   "execution_count": 11,
   "metadata": {},
   "outputs": [],
   "source": [
    "# with open('scaler_X.pkl', 'wb') as f:\n",
    "#     pickle.dump(scaler_X, f)\n",
    "# with open('scaler_y.pkl', 'wb') as f:\n",
    "#     pickle.dump(scaler_y, f)"
   ]
  },
  {
   "cell_type": "markdown",
   "metadata": {},
   "source": [
    "# Extracting static features"
   ]
  },
  {
   "cell_type": "code",
   "execution_count": 12,
   "metadata": {},
   "outputs": [
    {
     "name": "stdout",
     "output_type": "stream",
     "text": [
      "X_tr_st_scaled shape::  (314457, 4)\n",
      "X_te_st_scaled shape::  (78615, 4)\n"
     ]
    }
   ],
   "source": [
    "# Extract Static features\n",
    "\n",
    "X_tr_st_scaled = X_tr_scaled[:, :4]\n",
    "\n",
    "X_te_st_scaled = X_te_scaled[:, :4]\n",
    "\n",
    "# X_te_st_unpadded_scaled = X_te_unpadded_scaled[:, :4]\n",
    "\n",
    "print(\"X_tr_st_scaled shape:: \", X_tr_st_scaled.shape)\n",
    "print(\"X_te_st_scaled shape:: \", X_te_st_scaled.shape)\n",
    "# print(\"X_te_st_unpadded_scaled shape:: \", X_te_st_unpadded_scaled.shape)\n"
   ]
  },
  {
   "cell_type": "markdown",
   "metadata": {},
   "source": [
    "# Model\n",
    "1. Both static and dynamic variables goes through LSTM and Dense layers together and output only dynamic variables in the label as \"mixed_outputs\".\n",
    "2. The static variables are concatenated with the \"mixed_outputs\" at the end as \"main_outputs\"."
   ]
  },
  {
   "cell_type": "code",
   "execution_count": 29,
   "metadata": {},
   "outputs": [
    {
     "name": "stdout",
     "output_type": "stream",
     "text": [
      "Model: \"model_2\"\n",
      "__________________________________________________________________________________________________\n",
      "Layer (type)                    Output Shape         Param #     Connected to                     \n",
      "==================================================================================================\n",
      "input_6 (InputLayer)            [(None, 1, 50)]      0                                            \n",
      "__________________________________________________________________________________________________\n",
      "simple_rnn (SimpleRNN)          (None, 704)          531520      input_6[0][0]                    \n",
      "__________________________________________________________________________________________________\n",
      "flatten_2 (Flatten)             (None, 704)          0           simple_rnn[0][0]                 \n",
      "__________________________________________________________________________________________________\n",
      "dense_4 (Dense)                 (None, 480)          338400      flatten_2[0][0]                  \n",
      "__________________________________________________________________________________________________\n",
      "input_5 (InputLayer)            [(None, 4)]          0                                            \n",
      "__________________________________________________________________________________________________\n",
      "dense_5 (Dense)                 (None, 42)           20202       dense_4[0][0]                    \n",
      "__________________________________________________________________________________________________\n",
      "concatenate_2 (Concatenate)     (None, 46)           0           input_5[0][0]                    \n",
      "                                                                 dense_5[0][0]                    \n",
      "==================================================================================================\n",
      "Total params: 890,122\n",
      "Trainable params: 890,122\n",
      "Non-trainable params: 0\n",
      "__________________________________________________________________________________________________\n"
     ]
    }
   ],
   "source": [
    "    ### Static Data Input layer (only static)\n",
    "    static_inputs = tf.keras.Input(shape=(len(static_features)))\n",
    "\n",
    "    ### Mixed Data Input Layer (both static and dynamic)\n",
    "    mixed_inputs = tf.keras.Input(shape=(1, len(all_features)))\n",
    "\n",
    "    ### Mixed Data Hidden layers 480,48,0.0005\n",
    "    mixed_h1 = tf.keras.layers.SimpleRNN(704)(mixed_inputs)\n",
    "    mixed_h2 = tf.keras.layers.Flatten()(mixed_h1)\n",
    "    \n",
    "    mixed_h3 = Dense(480)(mixed_h2)\n",
    "\n",
    "    ### Main Output Layer\n",
    "    static_outputs = (static_inputs)\n",
    "    mixed_outputs = Dense(len(labels)-4)(mixed_h3)\n",
    "    main_outputs = tf.keras.layers.concatenate([static_outputs, mixed_outputs])\n",
    "\n",
    "    ### Model Creation\n",
    "    model = tf.keras.Model(inputs=[static_inputs, mixed_inputs], outputs=main_outputs)\n",
    "\n",
    "    ### Compile the model\n",
    "    opt = keras.optimizers.Adam(learning_rate=0.0001) #set=0.005, #default=0.001\n",
    "    ls = keras.losses.MeanSquaredError()\n",
    "    model.compile(optimizer=opt, loss=ls, metrics='mape')\n",
    "\n",
    "    ### Model summary\n",
    "    model.summary()\n"
   ]
  },
  {
   "cell_type": "markdown",
   "metadata": {},
   "source": [
    "# Hyperparameter Tuning"
   ]
  },
  {
   "cell_type": "code",
   "execution_count": 12,
   "metadata": {
    "execution": {
     "iopub.execute_input": "2024-02-21T01:36:42.384497Z",
     "iopub.status.busy": "2024-02-21T01:36:42.384233Z",
     "iopub.status.idle": "2024-02-21T01:36:42.396261Z",
     "shell.execute_reply": "2024-02-21T01:36:42.395414Z",
     "shell.execute_reply.started": "2024-02-21T01:36:42.384476Z"
    }
   },
   "outputs": [],
   "source": [
    "def model_builder(hp):\n",
    "\n",
    "    ### Static Data Input layer (only static)\n",
    "    static_inputs = tf.keras.Input(shape=(len(static_features)))\n",
    "\n",
    "    ### Mixed Data Input Layer (both static and dynamic)\n",
    "    mixed_inputs = tf.keras.Input(shape=(1, len(all_features)))\n",
    "\n",
    "    ### Mixed Data Hidden layers\n",
    "    hp_units1 = hp.Int('units1', min_value=64, max_value=1280, step=64)\n",
    "    mixed_h1 = tf.keras.layers.LSTM(hp_units1)(mixed_inputs)\n",
    "    mixed_h2 = tf.keras.layers.Flatten()(mixed_h1)\n",
    "    \n",
    "    hp_units3 = hp.Int('units3', min_value=48, max_value=512, step=16)\n",
    "    mixed_h3 = Dense(hp_units3)(mixed_h2)\n",
    "\n",
    "    ### Main Output Layer\n",
    "    static_outputs = (static_inputs)\n",
    "    mixed_outputs = Dense(len(labels)-4)(mixed_h3)\n",
    "    main_outputs = tf.keras.layers.concatenate([static_outputs, mixed_outputs])\n",
    "\n",
    "    ### Model Creation\n",
    "    model = tf.keras.Model(inputs=[static_inputs, mixed_inputs], outputs=main_outputs)\n",
    "\n",
    "    ### Compile the model\n",
    "    hp_lr = hp.Choice('learning_rate', values=[0.1, 0.05, 0.01, 0.005, 0.001, 0.0005, 0.0001])\n",
    "    opt = keras.optimizers.Adam(learning_rate=hp_lr) #set=0.005, #default=0.001\n",
    "    ls = keras.losses.MeanSquaredError()\n",
    "    model.compile(optimizer=opt, loss=ls, metrics='mape')\n",
    "\n",
    "    ### Model summary\n",
    "#     model.summary()\n",
    "    \n",
    "    return model"
   ]
  },
  {
   "cell_type": "code",
   "execution_count": 13,
   "metadata": {
    "execution": {
     "iopub.execute_input": "2024-02-21T01:36:42.399161Z",
     "iopub.status.busy": "2024-02-21T01:36:42.397386Z",
     "iopub.status.idle": "2024-02-21T02:21:00.275145Z",
     "shell.execute_reply": "2024-02-21T02:21:00.274218Z",
     "shell.execute_reply.started": "2024-02-21T01:36:42.399136Z"
    }
   },
   "outputs": [
    {
     "name": "stdout",
     "output_type": "stream",
     "text": [
      "Trial 90 Complete [00h 01m 37s]\n",
      "val_loss: 0.13140888512134552\n",
      "\n",
      "Best val_loss So Far: 0.12979869544506073\n",
      "Total elapsed time: 00h 44m 17s\n"
     ]
    }
   ],
   "source": [
    "X_tr_reshaped = X_tr_scaled.reshape((X_tr_scaled.shape[0], \n",
    "                                    1, X_tr_scaled.shape[1]))\n",
    "X_te_reshaped = X_te_scaled.reshape((X_te_scaled.shape[0], \n",
    "                                    1, X_te_scaled.shape[1]))\n",
    "tuner = kt.Hyperband(model_builder,\n",
    "                     objective='val_loss',\n",
    "                     max_epochs=50,\n",
    "                     factor=3)\n",
    "earlystop = tf.keras.callbacks.EarlyStopping(monitor='val_loss',\n",
    "                                             patience=5)\n",
    "tuner.search([X_tr_st_scaled, X_tr_reshaped], y_tr_scaled, epochs=50, batch_size=512,\n",
    "                    shuffle=False,\n",
    "                    validation_data=([X_te_st_scaled, X_te_reshaped], y_te_scaled), \n",
    "                    callbacks=[earlystop])\n",
    "best_hps=tuner.get_best_hyperparameters(num_trials=1)[0]"
   ]
  },
  {
   "cell_type": "code",
   "execution_count": 14,
   "metadata": {
    "execution": {
     "iopub.execute_input": "2024-02-21T02:21:00.276543Z",
     "iopub.status.busy": "2024-02-21T02:21:00.276285Z",
     "iopub.status.idle": "2024-02-21T02:21:00.281707Z",
     "shell.execute_reply": "2024-02-21T02:21:00.280768Z",
     "shell.execute_reply.started": "2024-02-21T02:21:00.276520Z"
    }
   },
   "outputs": [
    {
     "name": "stdout",
     "output_type": "stream",
     "text": [
      "704\n",
      "480\n",
      "0.0001\n"
     ]
    }
   ],
   "source": [
    "print(best_hps.get('units1'))\n",
    "print(best_hps.get('units3'))\n",
    "print(best_hps.get('learning_rate'))"
   ]
  },
  {
   "cell_type": "markdown",
   "metadata": {},
   "source": [
    "LSTM::480,48,0.0005; 1280, 64, 0.0005\n",
    "\n",
    "GRU:: 1280, 64, 0.0005\n",
    "\n",
    "SimpleRNN:: 704, 480, 0.0001\n",
    "\n",
    "StackedDense:: 448, 480, 0.0001\n",
    "\n",
    "VAE:: 768(LSTM), 1216(latent_dim), 0.001(lr)\n",
    "\n",
    "Transformer:: \n"
   ]
  },
  {
   "cell_type": "markdown",
   "metadata": {},
   "source": [
    "END HYPERPARAMETER TUNNING"
   ]
  },
  {
   "cell_type": "code",
   "execution_count": null,
   "metadata": {},
   "outputs": [],
   "source": []
  },
  {
   "cell_type": "markdown",
   "metadata": {},
   "source": [
    "# Fitting"
   ]
  },
  {
   "cell_type": "code",
   "execution_count": 30,
   "metadata": {},
   "outputs": [
    {
     "name": "stdout",
     "output_type": "stream",
     "text": [
      "Epoch 1/1000\n",
      "308/308 [==============================] - 3s 8ms/step - loss: 0.2173 - mape: 221.4755 - val_loss: 0.1449 - val_mape: 177.2793\n",
      "Epoch 2/1000\n",
      "308/308 [==============================] - 2s 5ms/step - loss: 0.1512 - mape: 161.0895 - val_loss: 0.1396 - val_mape: 157.6734\n",
      "Epoch 3/1000\n",
      "308/308 [==============================] - 2s 5ms/step - loss: 0.1476 - mape: 155.3126 - val_loss: 0.1377 - val_mape: 154.9056\n",
      "Epoch 4/1000\n",
      "308/308 [==============================] - 2s 5ms/step - loss: 0.1455 - mape: 153.1105 - val_loss: 0.1364 - val_mape: 153.8083\n",
      "Epoch 5/1000\n",
      "308/308 [==============================] - 2s 5ms/step - loss: 0.1438 - mape: 151.5548 - val_loss: 0.1356 - val_mape: 152.5866\n",
      "Epoch 6/1000\n",
      "308/308 [==============================] - 2s 5ms/step - loss: 0.1424 - mape: 150.3700 - val_loss: 0.1349 - val_mape: 151.3205\n",
      "Epoch 7/1000\n",
      "308/308 [==============================] - 2s 5ms/step - loss: 0.1413 - mape: 149.6917 - val_loss: 0.1344 - val_mape: 150.6605\n",
      "Epoch 8/1000\n",
      "308/308 [==============================] - 2s 5ms/step - loss: 0.1404 - mape: 149.4959 - val_loss: 0.1340 - val_mape: 150.2507\n",
      "Epoch 9/1000\n",
      "308/308 [==============================] - 2s 5ms/step - loss: 0.1396 - mape: 149.4158 - val_loss: 0.1336 - val_mape: 149.9194\n",
      "Epoch 10/1000\n",
      "308/308 [==============================] - 2s 5ms/step - loss: 0.1391 - mape: 149.4084 - val_loss: 0.1334 - val_mape: 149.8543\n",
      "Epoch 11/1000\n",
      "308/308 [==============================] - 2s 5ms/step - loss: 0.1386 - mape: 149.3529 - val_loss: 0.1331 - val_mape: 150.0022\n",
      "Epoch 12/1000\n",
      "308/308 [==============================] - 2s 5ms/step - loss: 0.1382 - mape: 149.1958 - val_loss: 0.1329 - val_mape: 150.1098\n",
      "Epoch 13/1000\n",
      "308/308 [==============================] - 2s 5ms/step - loss: 0.1379 - mape: 149.1807 - val_loss: 0.1327 - val_mape: 150.1474\n",
      "Epoch 14/1000\n",
      "308/308 [==============================] - 2s 6ms/step - loss: 0.1376 - mape: 149.1332 - val_loss: 0.1325 - val_mape: 150.0924\n",
      "Epoch 15/1000\n",
      "308/308 [==============================] - 2s 6ms/step - loss: 0.1374 - mape: 149.0746 - val_loss: 0.1323 - val_mape: 149.9213\n",
      "Epoch 16/1000\n",
      "308/308 [==============================] - 2s 6ms/step - loss: 0.1372 - mape: 148.9707 - val_loss: 0.1322 - val_mape: 149.7343\n",
      "Epoch 17/1000\n",
      "308/308 [==============================] - 2s 6ms/step - loss: 0.1370 - mape: 148.8483 - val_loss: 0.1320 - val_mape: 149.5006\n",
      "Epoch 18/1000\n",
      "308/308 [==============================] - 2s 6ms/step - loss: 0.1368 - mape: 148.6674 - val_loss: 0.1319 - val_mape: 149.3308\n",
      "Epoch 19/1000\n",
      "308/308 [==============================] - 2s 6ms/step - loss: 0.1366 - mape: 148.5101 - val_loss: 0.1318 - val_mape: 149.1278\n",
      "Epoch 20/1000\n",
      "308/308 [==============================] - 2s 6ms/step - loss: 0.1365 - mape: 148.3247 - val_loss: 0.1317 - val_mape: 149.0607\n",
      "Epoch 21/1000\n",
      "308/308 [==============================] - 2s 5ms/step - loss: 0.1364 - mape: 148.1440 - val_loss: 0.1316 - val_mape: 149.0131\n",
      "Epoch 22/1000\n",
      "308/308 [==============================] - 2s 5ms/step - loss: 0.1362 - mape: 147.9597 - val_loss: 0.1315 - val_mape: 148.8321\n",
      "Epoch 23/1000\n",
      "308/308 [==============================] - 2s 5ms/step - loss: 0.1361 - mape: 147.7354 - val_loss: 0.1314 - val_mape: 148.8361\n",
      "Epoch 24/1000\n",
      "308/308 [==============================] - 2s 5ms/step - loss: 0.1360 - mape: 147.5307 - val_loss: 0.1313 - val_mape: 148.6878\n",
      "Epoch 25/1000\n",
      "308/308 [==============================] - 2s 5ms/step - loss: 0.1359 - mape: 147.3232 - val_loss: 0.1312 - val_mape: 148.5183\n",
      "Epoch 26/1000\n",
      "308/308 [==============================] - 2s 5ms/step - loss: 0.1358 - mape: 147.1510 - val_loss: 0.1311 - val_mape: 148.4968\n",
      "Epoch 27/1000\n",
      "308/308 [==============================] - 2s 5ms/step - loss: 0.1357 - mape: 146.9265 - val_loss: 0.1310 - val_mape: 148.4158\n",
      "Epoch 28/1000\n",
      "308/308 [==============================] - 2s 5ms/step - loss: 0.1356 - mape: 146.7480 - val_loss: 0.1310 - val_mape: 148.2849\n",
      "Epoch 29/1000\n",
      "308/308 [==============================] - 2s 6ms/step - loss: 0.1355 - mape: 146.5324 - val_loss: 0.1309 - val_mape: 148.1750\n",
      "Epoch 30/1000\n",
      "308/308 [==============================] - 2s 5ms/step - loss: 0.1354 - mape: 146.3571 - val_loss: 0.1308 - val_mape: 148.0416\n",
      "Epoch 31/1000\n",
      "308/308 [==============================] - 2s 5ms/step - loss: 0.1353 - mape: 146.1630 - val_loss: 0.1308 - val_mape: 148.0025\n",
      "Epoch 32/1000\n",
      "308/308 [==============================] - 2s 5ms/step - loss: 0.1353 - mape: 145.9897 - val_loss: 0.1307 - val_mape: 147.9277\n",
      "Epoch 33/1000\n",
      "308/308 [==============================] - 2s 5ms/step - loss: 0.1352 - mape: 145.8473 - val_loss: 0.1307 - val_mape: 147.8315\n",
      "Epoch 34/1000\n",
      "308/308 [==============================] - 2s 5ms/step - loss: 0.1351 - mape: 145.7258 - val_loss: 0.1306 - val_mape: 147.7647\n",
      "Epoch 35/1000\n",
      "308/308 [==============================] - 2s 5ms/step - loss: 0.1350 - mape: 145.5577 - val_loss: 0.1306 - val_mape: 147.6394\n",
      "Epoch 36/1000\n",
      "308/308 [==============================] - 2s 5ms/step - loss: 0.1350 - mape: 145.4301 - val_loss: 0.1305 - val_mape: 147.5789\n",
      "Epoch 37/1000\n",
      "308/308 [==============================] - 2s 6ms/step - loss: 0.1349 - mape: 145.3855 - val_loss: 0.1305 - val_mape: 147.5796\n",
      "Epoch 38/1000\n",
      "308/308 [==============================] - 2s 5ms/step - loss: 0.1348 - mape: 145.3305 - val_loss: 0.1304 - val_mape: 147.6461\n",
      "Epoch 39/1000\n",
      "308/308 [==============================] - 2s 5ms/step - loss: 0.1348 - mape: 145.2916 - val_loss: 0.1304 - val_mape: 147.6293\n",
      "Epoch 40/1000\n",
      "308/308 [==============================] - 2s 5ms/step - loss: 0.1347 - mape: 145.2607 - val_loss: 0.1304 - val_mape: 147.6948\n",
      "Epoch 41/1000\n",
      "308/308 [==============================] - 2s 5ms/step - loss: 0.1347 - mape: 145.2563 - val_loss: 0.1303 - val_mape: 147.7205\n",
      "Epoch 42/1000\n",
      "308/308 [==============================] - 2s 5ms/step - loss: 0.1346 - mape: 145.1879 - val_loss: 0.1303 - val_mape: 147.7457\n",
      "Epoch 43/1000\n",
      "308/308 [==============================] - 2s 5ms/step - loss: 0.1346 - mape: 145.1626 - val_loss: 0.1303 - val_mape: 147.7220\n",
      "Epoch 44/1000\n",
      "308/308 [==============================] - 2s 5ms/step - loss: 0.1345 - mape: 145.0940 - val_loss: 0.1302 - val_mape: 147.6849\n",
      "Epoch 45/1000\n",
      "308/308 [==============================] - 2s 5ms/step - loss: 0.1344 - mape: 145.1258 - val_loss: 0.1302 - val_mape: 147.7880\n",
      "Epoch 46/1000\n",
      "308/308 [==============================] - 2s 5ms/step - loss: 0.1344 - mape: 145.0008 - val_loss: 0.1302 - val_mape: 147.8782\n",
      "Epoch 47/1000\n",
      "308/308 [==============================] - 2s 5ms/step - loss: 0.1343 - mape: 145.0240 - val_loss: 0.1301 - val_mape: 147.8067\n",
      "Epoch 48/1000\n",
      "308/308 [==============================] - 2s 5ms/step - loss: 0.1343 - mape: 144.9704 - val_loss: 0.1301 - val_mape: 147.9062\n",
      "Epoch 49/1000\n",
      "308/308 [==============================] - 2s 5ms/step - loss: 0.1342 - mape: 144.9520 - val_loss: 0.1301 - val_mape: 147.8422\n",
      "Epoch 50/1000\n",
      "308/308 [==============================] - 2s 5ms/step - loss: 0.1342 - mape: 144.9199 - val_loss: 0.1300 - val_mape: 147.9035\n",
      "Epoch 51/1000\n",
      "308/308 [==============================] - 2s 5ms/step - loss: 0.1342 - mape: 144.9300 - val_loss: 0.1300 - val_mape: 147.9297\n",
      "Epoch 52/1000\n",
      "308/308 [==============================] - 2s 6ms/step - loss: 0.1341 - mape: 144.8561 - val_loss: 0.1300 - val_mape: 147.9744\n",
      "Epoch 53/1000\n",
      "308/308 [==============================] - 2s 5ms/step - loss: 0.1341 - mape: 144.8637 - val_loss: 0.1300 - val_mape: 147.9796\n",
      "Epoch 54/1000\n",
      "308/308 [==============================] - 2s 5ms/step - loss: 0.1340 - mape: 144.8040 - val_loss: 0.1299 - val_mape: 148.0452\n",
      "Epoch 55/1000\n",
      "308/308 [==============================] - 2s 5ms/step - loss: 0.1340 - mape: 144.8020 - val_loss: 0.1299 - val_mape: 147.9700\n",
      "Epoch 56/1000\n",
      "308/308 [==============================] - 2s 6ms/step - loss: 0.1339 - mape: 144.7983 - val_loss: 0.1299 - val_mape: 148.1089\n",
      "Epoch 57/1000\n",
      "308/308 [==============================] - 2s 5ms/step - loss: 0.1339 - mape: 144.7076 - val_loss: 0.1299 - val_mape: 148.0913\n",
      "Epoch 58/1000\n",
      "308/308 [==============================] - 2s 5ms/step - loss: 0.1339 - mape: 144.7059 - val_loss: 0.1298 - val_mape: 148.1523\n",
      "Epoch 59/1000\n",
      "308/308 [==============================] - 2s 5ms/step - loss: 0.1338 - mape: 144.6082 - val_loss: 0.1298 - val_mape: 148.1652\n",
      "Epoch 60/1000\n",
      "308/308 [==============================] - 2s 5ms/step - loss: 0.1338 - mape: 144.6651 - val_loss: 0.1298 - val_mape: 148.1369\n",
      "Epoch 61/1000\n",
      "308/308 [==============================] - 2s 5ms/step - loss: 0.1338 - mape: 144.5505 - val_loss: 0.1298 - val_mape: 148.1531\n",
      "Epoch 62/1000\n",
      "308/308 [==============================] - 2s 5ms/step - loss: 0.1337 - mape: 144.5956 - val_loss: 0.1298 - val_mape: 148.2125\n",
      "Epoch 63/1000\n",
      "308/308 [==============================] - 2s 5ms/step - loss: 0.1337 - mape: 144.4619 - val_loss: 0.1297 - val_mape: 148.2585\n",
      "Epoch 64/1000\n",
      "308/308 [==============================] - 2s 6ms/step - loss: 0.1336 - mape: 144.5038 - val_loss: 0.1297 - val_mape: 148.2669\n",
      "Epoch 65/1000\n",
      "308/308 [==============================] - 2s 5ms/step - loss: 0.1336 - mape: 144.4036 - val_loss: 0.1297 - val_mape: 148.3023\n",
      "Epoch 66/1000\n",
      "308/308 [==============================] - 2s 5ms/step - loss: 0.1336 - mape: 144.3590 - val_loss: 0.1297 - val_mape: 148.3207\n",
      "Epoch 67/1000\n",
      "308/308 [==============================] - 2s 5ms/step - loss: 0.1335 - mape: 144.3313 - val_loss: 0.1296 - val_mape: 148.4142\n",
      "Epoch 68/1000\n",
      "308/308 [==============================] - 2s 5ms/step - loss: 0.1335 - mape: 144.3000 - val_loss: 0.1296 - val_mape: 148.3515\n",
      "Epoch 69/1000\n",
      "308/308 [==============================] - 2s 6ms/step - loss: 0.1335 - mape: 144.2313 - val_loss: 0.1296 - val_mape: 148.3800\n",
      "Epoch 70/1000\n",
      "308/308 [==============================] - 2s 6ms/step - loss: 0.1335 - mape: 144.1981 - val_loss: 0.1296 - val_mape: 148.4313\n",
      "Epoch 71/1000\n",
      "308/308 [==============================] - 2s 6ms/step - loss: 0.1334 - mape: 144.1309 - val_loss: 0.1296 - val_mape: 148.4564\n",
      "Epoch 72/1000\n",
      "308/308 [==============================] - 2s 5ms/step - loss: 0.1334 - mape: 144.1083 - val_loss: 0.1296 - val_mape: 148.4201\n",
      "Epoch 73/1000\n",
      "308/308 [==============================] - 2s 6ms/step - loss: 0.1334 - mape: 144.0558 - val_loss: 0.1295 - val_mape: 148.4433\n",
      "Epoch 74/1000\n",
      "308/308 [==============================] - 2s 5ms/step - loss: 0.1333 - mape: 143.9996 - val_loss: 0.1295 - val_mape: 148.4539\n",
      "Epoch 75/1000\n",
      "308/308 [==============================] - 2s 6ms/step - loss: 0.1333 - mape: 143.9347 - val_loss: 0.1295 - val_mape: 148.4581\n",
      "Epoch 76/1000\n",
      "308/308 [==============================] - 2s 6ms/step - loss: 0.1333 - mape: 143.8916 - val_loss: 0.1295 - val_mape: 148.4981\n",
      "Epoch 77/1000\n",
      "308/308 [==============================] - 2s 6ms/step - loss: 0.1332 - mape: 143.8270 - val_loss: 0.1295 - val_mape: 148.4929\n",
      "Epoch 78/1000\n",
      "308/308 [==============================] - 2s 5ms/step - loss: 0.1332 - mape: 143.8041 - val_loss: 0.1295 - val_mape: 148.5342\n",
      "Epoch 79/1000\n",
      "308/308 [==============================] - 2s 6ms/step - loss: 0.1332 - mape: 143.7263 - val_loss: 0.1295 - val_mape: 148.5562\n",
      "Epoch 80/1000\n",
      "308/308 [==============================] - 2s 5ms/step - loss: 0.1332 - mape: 143.7275 - val_loss: 0.1294 - val_mape: 148.5430\n",
      "Epoch 81/1000\n",
      "308/308 [==============================] - 2s 5ms/step - loss: 0.1331 - mape: 143.6145 - val_loss: 0.1294 - val_mape: 148.6129\n",
      "Epoch 82/1000\n",
      "308/308 [==============================] - 2s 5ms/step - loss: 0.1331 - mape: 143.5983 - val_loss: 0.1294 - val_mape: 148.5855\n",
      "Epoch 83/1000\n",
      "308/308 [==============================] - 2s 6ms/step - loss: 0.1331 - mape: 143.5354 - val_loss: 0.1294 - val_mape: 148.6411\n",
      "Epoch 84/1000\n",
      "308/308 [==============================] - 2s 5ms/step - loss: 0.1331 - mape: 143.4539 - val_loss: 0.1294 - val_mape: 148.6517\n",
      "Epoch 85/1000\n",
      "308/308 [==============================] - 2s 5ms/step - loss: 0.1330 - mape: 143.4742 - val_loss: 0.1294 - val_mape: 148.6358\n",
      "Epoch 86/1000\n",
      "308/308 [==============================] - 2s 5ms/step - loss: 0.1330 - mape: 143.3784 - val_loss: 0.1293 - val_mape: 148.7116\n",
      "Epoch 87/1000\n",
      "308/308 [==============================] - 2s 6ms/step - loss: 0.1330 - mape: 143.3391 - val_loss: 0.1293 - val_mape: 148.8135\n",
      "Epoch 88/1000\n",
      "308/308 [==============================] - 2s 6ms/step - loss: 0.1330 - mape: 143.2852 - val_loss: 0.1293 - val_mape: 148.8143\n",
      "Epoch 89/1000\n",
      "308/308 [==============================] - 2s 6ms/step - loss: 0.1329 - mape: 143.2631 - val_loss: 0.1293 - val_mape: 148.8341\n",
      "Epoch 90/1000\n",
      "308/308 [==============================] - 2s 6ms/step - loss: 0.1329 - mape: 143.1953 - val_loss: 0.1293 - val_mape: 148.7520\n",
      "Epoch 91/1000\n",
      "308/308 [==============================] - 2s 6ms/step - loss: 0.1329 - mape: 143.1698 - val_loss: 0.1293 - val_mape: 148.8926\n",
      "Epoch 92/1000\n",
      "308/308 [==============================] - 2s 5ms/step - loss: 0.1329 - mape: 143.1178 - val_loss: 0.1293 - val_mape: 148.9036\n",
      "Epoch 93/1000\n",
      "308/308 [==============================] - 2s 6ms/step - loss: 0.1328 - mape: 143.0265 - val_loss: 0.1293 - val_mape: 148.9475\n",
      "Epoch 94/1000\n",
      "308/308 [==============================] - 2s 6ms/step - loss: 0.1328 - mape: 143.0529 - val_loss: 0.1293 - val_mape: 148.9466\n",
      "Epoch 95/1000\n",
      "308/308 [==============================] - 2s 5ms/step - loss: 0.1328 - mape: 142.9502 - val_loss: 0.1292 - val_mape: 149.0625\n",
      "Epoch 96/1000\n",
      "308/308 [==============================] - 2s 5ms/step - loss: 0.1328 - mape: 142.9359 - val_loss: 0.1292 - val_mape: 148.9888\n",
      "Epoch 97/1000\n",
      "308/308 [==============================] - 2s 5ms/step - loss: 0.1327 - mape: 142.8455 - val_loss: 0.1292 - val_mape: 149.1534\n",
      "Epoch 98/1000\n",
      "308/308 [==============================] - 2s 5ms/step - loss: 0.1327 - mape: 142.8693 - val_loss: 0.1292 - val_mape: 149.0822\n",
      "Epoch 99/1000\n",
      "308/308 [==============================] - 2s 6ms/step - loss: 0.1327 - mape: 142.7795 - val_loss: 0.1292 - val_mape: 149.1981\n",
      "Epoch 100/1000\n",
      "308/308 [==============================] - 2s 6ms/step - loss: 0.1327 - mape: 142.8088 - val_loss: 0.1292 - val_mape: 149.1825\n",
      "Epoch 101/1000\n",
      "308/308 [==============================] - 2s 6ms/step - loss: 0.1327 - mape: 142.6392 - val_loss: 0.1292 - val_mape: 149.2839\n",
      "Epoch 102/1000\n",
      "308/308 [==============================] - 2s 5ms/step - loss: 0.1326 - mape: 142.7171 - val_loss: 0.1292 - val_mape: 149.2515\n",
      "Epoch 103/1000\n",
      "308/308 [==============================] - 2s 6ms/step - loss: 0.1326 - mape: 142.6173 - val_loss: 0.1292 - val_mape: 149.3327\n",
      "Epoch 104/1000\n",
      "308/308 [==============================] - 2s 5ms/step - loss: 0.1326 - mape: 142.6212 - val_loss: 0.1292 - val_mape: 149.3298\n",
      "Epoch 105/1000\n",
      "308/308 [==============================] - 2s 5ms/step - loss: 0.1326 - mape: 142.5493 - val_loss: 0.1291 - val_mape: 149.3192\n",
      "Epoch 106/1000\n",
      "308/308 [==============================] - 2s 5ms/step - loss: 0.1325 - mape: 142.5552 - val_loss: 0.1291 - val_mape: 149.4034\n",
      "Epoch 107/1000\n",
      "308/308 [==============================] - 2s 5ms/step - loss: 0.1325 - mape: 142.4779 - val_loss: 0.1291 - val_mape: 149.4526\n",
      "Epoch 108/1000\n",
      "308/308 [==============================] - 2s 5ms/step - loss: 0.1325 - mape: 142.5213 - val_loss: 0.1291 - val_mape: 149.4602\n",
      "Epoch 109/1000\n",
      "308/308 [==============================] - 2s 5ms/step - loss: 0.1325 - mape: 142.3868 - val_loss: 0.1291 - val_mape: 149.5821\n",
      "Epoch 110/1000\n",
      "308/308 [==============================] - 2s 5ms/step - loss: 0.1325 - mape: 142.3728 - val_loss: 0.1291 - val_mape: 149.5590\n",
      "Epoch 111/1000\n",
      "308/308 [==============================] - 2s 6ms/step - loss: 0.1324 - mape: 142.2990 - val_loss: 0.1291 - val_mape: 149.5734\n",
      "Epoch 112/1000\n",
      "308/308 [==============================] - 2s 5ms/step - loss: 0.1324 - mape: 142.3396 - val_loss: 0.1291 - val_mape: 149.6157\n",
      "Epoch 113/1000\n",
      "308/308 [==============================] - 2s 5ms/step - loss: 0.1324 - mape: 142.2351 - val_loss: 0.1291 - val_mape: 149.6641\n",
      "Epoch 114/1000\n",
      "308/308 [==============================] - 2s 5ms/step - loss: 0.1324 - mape: 142.2969 - val_loss: 0.1291 - val_mape: 149.6756\n",
      "Epoch 115/1000\n",
      "308/308 [==============================] - 2s 6ms/step - loss: 0.1324 - mape: 142.1760 - val_loss: 0.1291 - val_mape: 149.7359\n",
      "Epoch 116/1000\n",
      "308/308 [==============================] - 2s 5ms/step - loss: 0.1324 - mape: 142.2308 - val_loss: 0.1291 - val_mape: 149.6989\n",
      "Epoch 117/1000\n",
      "308/308 [==============================] - 2s 5ms/step - loss: 0.1323 - mape: 142.1552 - val_loss: 0.1291 - val_mape: 149.7960\n",
      "Epoch 118/1000\n",
      "308/308 [==============================] - 2s 5ms/step - loss: 0.1323 - mape: 142.1843 - val_loss: 0.1290 - val_mape: 149.7345\n",
      "Epoch 119/1000\n",
      "308/308 [==============================] - 2s 5ms/step - loss: 0.1323 - mape: 142.1505 - val_loss: 0.1290 - val_mape: 149.8304\n",
      "Epoch 120/1000\n",
      "308/308 [==============================] - 2s 6ms/step - loss: 0.1323 - mape: 142.1295 - val_loss: 0.1290 - val_mape: 149.8182\n",
      "Epoch 121/1000\n",
      "308/308 [==============================] - 2s 6ms/step - loss: 0.1323 - mape: 142.0714 - val_loss: 0.1290 - val_mape: 149.9442\n",
      "Epoch 122/1000\n",
      "308/308 [==============================] - 2s 6ms/step - loss: 0.1322 - mape: 142.0675 - val_loss: 0.1290 - val_mape: 149.8516\n",
      "Epoch 123/1000\n",
      "308/308 [==============================] - 2s 6ms/step - loss: 0.1322 - mape: 142.0596 - val_loss: 0.1290 - val_mape: 149.8947\n",
      "Epoch 124/1000\n",
      "308/308 [==============================] - 2s 6ms/step - loss: 0.1322 - mape: 142.0633 - val_loss: 0.1290 - val_mape: 149.9782\n",
      "Epoch 125/1000\n",
      "308/308 [==============================] - 2s 6ms/step - loss: 0.1322 - mape: 141.9945 - val_loss: 0.1290 - val_mape: 150.1264\n",
      "Epoch 126/1000\n",
      "308/308 [==============================] - 2s 6ms/step - loss: 0.1322 - mape: 141.9766 - val_loss: 0.1290 - val_mape: 150.1285\n",
      "Epoch 127/1000\n",
      "308/308 [==============================] - 2s 6ms/step - loss: 0.1322 - mape: 141.9663 - val_loss: 0.1290 - val_mape: 150.1755\n",
      "Epoch 128/1000\n",
      "308/308 [==============================] - 2s 6ms/step - loss: 0.1321 - mape: 141.9435 - val_loss: 0.1290 - val_mape: 150.1494\n",
      "Epoch 129/1000\n",
      "308/308 [==============================] - 2s 6ms/step - loss: 0.1321 - mape: 141.9434 - val_loss: 0.1290 - val_mape: 150.1757\n",
      "Epoch 130/1000\n",
      "308/308 [==============================] - 2s 6ms/step - loss: 0.1321 - mape: 141.8973 - val_loss: 0.1290 - val_mape: 150.1473\n",
      "Epoch 131/1000\n",
      "308/308 [==============================] - 2s 6ms/step - loss: 0.1321 - mape: 141.9152 - val_loss: 0.1290 - val_mape: 150.2464\n",
      "Epoch 132/1000\n",
      "308/308 [==============================] - 2s 5ms/step - loss: 0.1321 - mape: 141.8961 - val_loss: 0.1290 - val_mape: 150.2339\n",
      "Epoch 133/1000\n",
      "308/308 [==============================] - 2s 6ms/step - loss: 0.1321 - mape: 141.8704 - val_loss: 0.1290 - val_mape: 150.3289\n",
      "Epoch 134/1000\n",
      "308/308 [==============================] - 2s 5ms/step - loss: 0.1320 - mape: 141.9046 - val_loss: 0.1290 - val_mape: 150.2422\n",
      "Epoch 135/1000\n",
      "308/308 [==============================] - 2s 6ms/step - loss: 0.1320 - mape: 141.8226 - val_loss: 0.1290 - val_mape: 150.3321\n",
      "Epoch 136/1000\n",
      "308/308 [==============================] - 2s 6ms/step - loss: 0.1320 - mape: 141.8498 - val_loss: 0.1290 - val_mape: 150.2708\n",
      "Epoch 137/1000\n",
      "308/308 [==============================] - 2s 6ms/step - loss: 0.1320 - mape: 141.8514 - val_loss: 0.1290 - val_mape: 150.4709\n",
      "Epoch 138/1000\n",
      "308/308 [==============================] - 2s 6ms/step - loss: 0.1320 - mape: 141.8119 - val_loss: 0.1290 - val_mape: 150.3627\n",
      "Epoch 139/1000\n",
      "308/308 [==============================] - 2s 6ms/step - loss: 0.1320 - mape: 141.7706 - val_loss: 0.1290 - val_mape: 150.3819\n",
      "Epoch 140/1000\n",
      "308/308 [==============================] - 2s 6ms/step - loss: 0.1319 - mape: 141.8075 - val_loss: 0.1290 - val_mape: 150.3894\n",
      "Epoch 141/1000\n",
      "308/308 [==============================] - 2s 6ms/step - loss: 0.1319 - mape: 141.7838 - val_loss: 0.1290 - val_mape: 150.3885\n",
      "Epoch 142/1000\n",
      "308/308 [==============================] - 2s 6ms/step - loss: 0.1319 - mape: 141.7947 - val_loss: 0.1290 - val_mape: 150.4332\n",
      "Epoch 143/1000\n",
      "308/308 [==============================] - 2s 6ms/step - loss: 0.1319 - mape: 141.7432 - val_loss: 0.1289 - val_mape: 150.4390\n",
      "Epoch 144/1000\n",
      "308/308 [==============================] - 2s 6ms/step - loss: 0.1319 - mape: 141.7502 - val_loss: 0.1289 - val_mape: 150.4213\n",
      "Epoch 145/1000\n",
      "308/308 [==============================] - 2s 6ms/step - loss: 0.1319 - mape: 141.6960 - val_loss: 0.1289 - val_mape: 150.5129\n",
      "Epoch 146/1000\n",
      "308/308 [==============================] - 2s 6ms/step - loss: 0.1318 - mape: 141.7541 - val_loss: 0.1289 - val_mape: 150.5097\n",
      "Epoch 147/1000\n",
      "308/308 [==============================] - 2s 6ms/step - loss: 0.1318 - mape: 141.6588 - val_loss: 0.1289 - val_mape: 150.5289\n",
      "Epoch 148/1000\n",
      "308/308 [==============================] - 2s 6ms/step - loss: 0.1318 - mape: 141.7347 - val_loss: 0.1289 - val_mape: 150.6601\n",
      "Epoch 149/1000\n",
      "308/308 [==============================] - 2s 6ms/step - loss: 0.1318 - mape: 141.6793 - val_loss: 0.1289 - val_mape: 150.6241\n",
      "Epoch 150/1000\n",
      "308/308 [==============================] - 2s 6ms/step - loss: 0.1318 - mape: 141.7075 - val_loss: 0.1289 - val_mape: 150.6629\n",
      "Epoch 151/1000\n",
      "308/308 [==============================] - 2s 5ms/step - loss: 0.1318 - mape: 141.6364 - val_loss: 0.1289 - val_mape: 150.6398\n",
      "Epoch 152/1000\n",
      "308/308 [==============================] - 2s 5ms/step - loss: 0.1318 - mape: 141.6767 - val_loss: 0.1289 - val_mape: 150.6378\n",
      "Epoch 153/1000\n",
      "308/308 [==============================] - 2s 5ms/step - loss: 0.1317 - mape: 141.6044 - val_loss: 0.1289 - val_mape: 150.7323\n",
      "Epoch 154/1000\n",
      "308/308 [==============================] - 2s 5ms/step - loss: 0.1317 - mape: 141.6887 - val_loss: 0.1289 - val_mape: 150.6407\n",
      "Epoch 155/1000\n",
      "308/308 [==============================] - 2s 5ms/step - loss: 0.1317 - mape: 141.6090 - val_loss: 0.1289 - val_mape: 150.7017\n",
      "Epoch 156/1000\n",
      "308/308 [==============================] - 2s 6ms/step - loss: 0.1317 - mape: 141.6428 - val_loss: 0.1289 - val_mape: 150.7077\n",
      "Epoch 157/1000\n",
      "308/308 [==============================] - 2s 6ms/step - loss: 0.1317 - mape: 141.6122 - val_loss: 0.1289 - val_mape: 150.7321\n",
      "Epoch 158/1000\n",
      "308/308 [==============================] - 2s 6ms/step - loss: 0.1317 - mape: 141.6609 - val_loss: 0.1289 - val_mape: 150.6788\n",
      "Epoch 159/1000\n",
      "308/308 [==============================] - 2s 6ms/step - loss: 0.1317 - mape: 141.5937 - val_loss: 0.1289 - val_mape: 150.7077\n",
      "Epoch 160/1000\n",
      "308/308 [==============================] - 2s 5ms/step - loss: 0.1316 - mape: 141.6389 - val_loss: 0.1289 - val_mape: 150.7223\n",
      "Epoch 161/1000\n",
      "308/308 [==============================] - 2s 5ms/step - loss: 0.1316 - mape: 141.5816 - val_loss: 0.1289 - val_mape: 150.7610\n",
      "Epoch 162/1000\n",
      "308/308 [==============================] - 2s 6ms/step - loss: 0.1316 - mape: 141.6012 - val_loss: 0.1289 - val_mape: 150.7617\n",
      "Epoch 163/1000\n",
      "308/308 [==============================] - 2s 6ms/step - loss: 0.1316 - mape: 141.6127 - val_loss: 0.1289 - val_mape: 150.8390\n",
      "Epoch 164/1000\n",
      "308/308 [==============================] - 2s 6ms/step - loss: 0.1316 - mape: 141.6560 - val_loss: 0.1289 - val_mape: 150.7783\n",
      "Epoch 165/1000\n",
      "308/308 [==============================] - 2s 6ms/step - loss: 0.1316 - mape: 141.5593 - val_loss: 0.1289 - val_mape: 150.8583\n",
      "Epoch 166/1000\n",
      "308/308 [==============================] - 2s 5ms/step - loss: 0.1316 - mape: 141.6249 - val_loss: 0.1289 - val_mape: 150.7930\n",
      "Epoch 167/1000\n",
      "308/308 [==============================] - 2s 5ms/step - loss: 0.1315 - mape: 141.5695 - val_loss: 0.1289 - val_mape: 150.8545\n",
      "Epoch 168/1000\n",
      "308/308 [==============================] - 2s 5ms/step - loss: 0.1315 - mape: 141.6378 - val_loss: 0.1289 - val_mape: 150.8257\n",
      "Epoch 169/1000\n",
      "308/308 [==============================] - 2s 5ms/step - loss: 0.1315 - mape: 141.5410 - val_loss: 0.1289 - val_mape: 150.9633\n",
      "Epoch 170/1000\n",
      "308/308 [==============================] - 2s 5ms/step - loss: 0.1315 - mape: 141.6429 - val_loss: 0.1289 - val_mape: 150.8458\n",
      "Epoch 171/1000\n",
      "308/308 [==============================] - 2s 5ms/step - loss: 0.1315 - mape: 141.5732 - val_loss: 0.1289 - val_mape: 150.8956\n",
      "Epoch 172/1000\n",
      "308/308 [==============================] - 2s 6ms/step - loss: 0.1315 - mape: 141.5944 - val_loss: 0.1289 - val_mape: 150.9658\n",
      "Epoch 173/1000\n",
      "308/308 [==============================] - 2s 6ms/step - loss: 0.1315 - mape: 141.6156 - val_loss: 0.1289 - val_mape: 150.9288\n",
      "Epoch 174/1000\n",
      "308/308 [==============================] - 2s 6ms/step - loss: 0.1314 - mape: 141.6490 - val_loss: 0.1289 - val_mape: 150.9815\n",
      "Epoch 175/1000\n",
      "308/308 [==============================] - 2s 6ms/step - loss: 0.1314 - mape: 141.6172 - val_loss: 0.1289 - val_mape: 150.9408\n",
      "Epoch 176/1000\n",
      "308/308 [==============================] - 2s 6ms/step - loss: 0.1314 - mape: 141.6200 - val_loss: 0.1289 - val_mape: 150.8865\n",
      "Epoch 177/1000\n",
      "308/308 [==============================] - 2s 6ms/step - loss: 0.1314 - mape: 141.5900 - val_loss: 0.1289 - val_mape: 150.9934\n",
      "Epoch 178/1000\n",
      "308/308 [==============================] - 2s 6ms/step - loss: 0.1314 - mape: 141.6412 - val_loss: 0.1289 - val_mape: 150.9948\n",
      "Epoch 179/1000\n",
      "308/308 [==============================] - 2s 6ms/step - loss: 0.1314 - mape: 141.5529 - val_loss: 0.1289 - val_mape: 151.0290\n",
      "Epoch 180/1000\n",
      "308/308 [==============================] - 2s 6ms/step - loss: 0.1314 - mape: 141.6614 - val_loss: 0.1289 - val_mape: 150.9597\n",
      "Epoch 181/1000\n",
      "308/308 [==============================] - 2s 5ms/step - loss: 0.1314 - mape: 141.5892 - val_loss: 0.1289 - val_mape: 151.0500\n",
      "Epoch 182/1000\n",
      "308/308 [==============================] - 2s 6ms/step - loss: 0.1313 - mape: 141.6144 - val_loss: 0.1289 - val_mape: 150.9766\n",
      "Epoch 183/1000\n",
      "308/308 [==============================] - 2s 6ms/step - loss: 0.1313 - mape: 141.6372 - val_loss: 0.1289 - val_mape: 151.0660\n",
      "Epoch 184/1000\n",
      "308/308 [==============================] - 2s 6ms/step - loss: 0.1313 - mape: 141.6348 - val_loss: 0.1289 - val_mape: 150.9375\n",
      "Epoch 185/1000\n",
      "308/308 [==============================] - 2s 5ms/step - loss: 0.1313 - mape: 141.5801 - val_loss: 0.1289 - val_mape: 151.0360\n",
      "Epoch 186/1000\n",
      "308/308 [==============================] - 2s 6ms/step - loss: 0.1313 - mape: 141.6499 - val_loss: 0.1289 - val_mape: 151.0913\n",
      "Epoch 187/1000\n",
      "308/308 [==============================] - 2s 6ms/step - loss: 0.1313 - mape: 141.5914 - val_loss: 0.1289 - val_mape: 150.9861\n",
      "Epoch 188/1000\n",
      "308/308 [==============================] - 2s 6ms/step - loss: 0.1313 - mape: 141.6249 - val_loss: 0.1289 - val_mape: 151.0308\n",
      "Epoch 189/1000\n",
      "308/308 [==============================] - 2s 6ms/step - loss: 0.1313 - mape: 141.5780 - val_loss: 0.1289 - val_mape: 151.1150\n",
      "Epoch 190/1000\n",
      "308/308 [==============================] - 2s 6ms/step - loss: 0.1312 - mape: 141.6476 - val_loss: 0.1289 - val_mape: 151.1107\n",
      "Epoch 191/1000\n",
      "308/308 [==============================] - 2s 5ms/step - loss: 0.1312 - mape: 141.6013 - val_loss: 0.1289 - val_mape: 151.1171\n",
      "Epoch 192/1000\n",
      "308/308 [==============================] - 2s 5ms/step - loss: 0.1312 - mape: 141.6468 - val_loss: 0.1289 - val_mape: 151.0086\n",
      "Epoch 193/1000\n",
      "308/308 [==============================] - 2s 5ms/step - loss: 0.1312 - mape: 141.6667 - val_loss: 0.1289 - val_mape: 151.1133\n",
      "Epoch 194/1000\n",
      "308/308 [==============================] - 2s 5ms/step - loss: 0.1312 - mape: 141.6673 - val_loss: 0.1289 - val_mape: 151.1226\n",
      "Epoch 195/1000\n",
      "308/308 [==============================] - 2s 5ms/step - loss: 0.1312 - mape: 141.6097 - val_loss: 0.1289 - val_mape: 151.1145\n",
      "Epoch 196/1000\n",
      "308/308 [==============================] - 1s 4ms/step - loss: 0.1312 - mape: 141.6741 - val_loss: 0.1289 - val_mape: 151.0457\n",
      "Epoch 197/1000\n",
      "308/308 [==============================] - 2s 5ms/step - loss: 0.1312 - mape: 141.6940 - val_loss: 0.1289 - val_mape: 151.1721\n",
      "Epoch 198/1000\n",
      "308/308 [==============================] - 2s 5ms/step - loss: 0.1311 - mape: 141.6729 - val_loss: 0.1289 - val_mape: 151.1248\n",
      "Epoch 00198: early stopping\n"
     ]
    }
   ],
   "source": [
    "X_tr_reshaped = X_tr_scaled.reshape((X_tr_scaled.shape[0], \n",
    "                                    1, X_tr_scaled.shape[1]))\n",
    "X_te_reshaped = X_te_scaled.reshape((X_te_scaled.shape[0], \n",
    "                                    1, X_te_scaled.shape[1]))\n",
    "# X_te_unpadded_reshaped = X_te_unpadded_scaled.reshape((X_te_unpadded_scaled.shape[0], \n",
    "#                                     1, X_te_unpadded_scaled.shape[1]))\n",
    "\n",
    "#early stopping\n",
    "#==============\n",
    "earlystop = tf.keras.callbacks.EarlyStopping(monitor='val_loss',\n",
    "                                             mode='min',\n",
    "                                             min_delta=0,\n",
    "                                             patience=7,\n",
    "                                             verbose=1)\n",
    "#==============\n",
    "\n",
    "history = model.fit([X_tr_st_scaled, X_tr_reshaped], y_tr_scaled, epochs=1000, batch_size=1024,\n",
    "                    shuffle=False,\n",
    "                    validation_data=([X_te_st_scaled, X_te_reshaped], y_te_scaled), \n",
    "                    verbose=1,\n",
    "                    callbacks=[earlystop])\n"
   ]
  },
  {
   "cell_type": "markdown",
   "metadata": {},
   "source": [
    "# Model Evaluation"
   ]
  },
  {
   "cell_type": "code",
   "execution_count": 31,
   "metadata": {},
   "outputs": [
    {
     "name": "stdout",
     "output_type": "stream",
     "text": [
      "Train loss: [0.13106787204742432, 141.18785095214844]\n",
      "Test loss: [0.1288897693157196, 151.12664794921875]\n"
     ]
    }
   ],
   "source": [
    "loss = model.evaluate([X_tr_st_scaled, X_tr_reshaped], y_tr_scaled, verbose=0)\n",
    "print(\"Train loss:\", loss)\n",
    "loss = model.evaluate([X_te_st_scaled, X_te_reshaped], y_te_scaled, verbose=0)\n",
    "print(\"Test loss:\", loss)\n",
    "# loss = model.evaluate([X_te_st_unpadded_scaled, X_te_unpadded_reshaped], y_te_unpadded_scaled, verbose=0)\n",
    "# print(\"Test loss (unpadded):\", loss)"
   ]
  },
  {
   "cell_type": "code",
   "execution_count": 32,
   "metadata": {},
   "outputs": [],
   "source": [
    "def get_prediction_mse(model, X, y):\n",
    "    _X = scaler_X.transform(X)\n",
    "    _y = scaler_y.transform(y)\n",
    "    _X_st = _X[:, :4]\n",
    "    _X = _X.reshape((_X.shape[0], 1, _X.shape[1]))\n",
    "    prediction = model.predict([_X_st, _X])\n",
    "#     prediction = scaler_y.inverse_transform(prediction)\n",
    "    prediction[:, :4] = _X_st#[:, :4]\n",
    "#     prediction = prediction[:, :46]\n",
    "    error = sk.metrics.mean_squared_error(prediction, _y)\n",
    "    return error"
   ]
  },
  {
   "cell_type": "code",
   "execution_count": null,
   "metadata": {},
   "outputs": [
    {
     "name": "stdout",
     "output_type": "stream",
     "text": [
      "0.13106787006435805\n"
     ]
    }
   ],
   "source": [
    "print(get_prediction_mse(model, X_tr, y_tr))\n",
    "print(get_prediction_mse(model, X_te, y_te))\n",
    "print(get_prediction_mse(model, X_te_comp, y_te_comp))"
   ]
  },
  {
   "cell_type": "code",
   "execution_count": null,
   "metadata": {},
   "outputs": [],
   "source": []
  },
  {
   "cell_type": "code",
   "execution_count": 26,
   "metadata": {},
   "outputs": [
    {
     "name": "stderr",
     "output_type": "stream",
     "text": [
      "WARNING:absl:Found untraced functions such as gru_cell_layer_call_and_return_conditional_losses, gru_cell_layer_call_fn, gru_cell_layer_call_fn, gru_cell_layer_call_and_return_conditional_losses, gru_cell_layer_call_and_return_conditional_losses while saving (showing 5 of 5). These functions will not be directly callable after loading.\n"
     ]
    },
    {
     "name": "stdout",
     "output_type": "stream",
     "text": [
      "INFO:tensorflow:Assets written to: saved_models/gru\\assets\n"
     ]
    },
    {
     "name": "stderr",
     "output_type": "stream",
     "text": [
      "INFO:tensorflow:Assets written to: saved_models/gru\\assets\n"
     ]
    }
   ],
   "source": [
    "model.save('saved_models/rnn')"
   ]
  },
  {
   "cell_type": "code",
   "execution_count": 27,
   "metadata": {},
   "outputs": [],
   "source": [
    "temp_model = tf.keras.models.load_model('saved_models/rnn')"
   ]
  },
  {
   "cell_type": "code",
   "execution_count": 28,
   "metadata": {},
   "outputs": [
    {
     "name": "stdout",
     "output_type": "stream",
     "text": [
      "0.12837313450272275\n",
      "0.12813269484756695\n",
      "0.19605083893444084\n"
     ]
    }
   ],
   "source": [
    "print(get_prediction_mse(temp_model, X_tr, y_tr))\n",
    "print(get_prediction_mse(temp_model, X_te, y_te))\n",
    "print(get_prediction_mse(temp_model, X_te_comp, y_te_comp))"
   ]
  },
  {
   "cell_type": "code",
   "execution_count": null,
   "metadata": {},
   "outputs": [],
   "source": []
  },
  {
   "cell_type": "code",
   "execution_count": null,
   "metadata": {},
   "outputs": [],
   "source": []
  },
  {
   "cell_type": "markdown",
   "metadata": {},
   "source": [
    "# Predict one row just to see\n",
    "Modify the start_ind and end_ind to predict more rows or different row(s)."
   ]
  },
  {
   "cell_type": "code",
   "execution_count": null,
   "metadata": {},
   "outputs": [],
   "source": [
    "# start_ind = 20\n",
    "# end_ind = 21\n",
    "# prediction = model.predict([X_te_st_scaled[start_ind:end_ind], X_te_reshaped[start_ind:end_ind]])\n",
    "# print(prediction.shape)"
   ]
  },
  {
   "cell_type": "code",
   "execution_count": null,
   "metadata": {},
   "outputs": [],
   "source": [
    "# for i, j in list(zip(prediction, y_te[start_ind:end_ind])):\n",
    "#     # scaler_y.inverse_transform() de-normalize the predicted values by the normalization scaler.\n",
    "#     zipped = list(zip(scaler_y.inverse_transform([i])[0], j))\n",
    "#     print(\"(prediction, actual label)\")\n",
    "#     print()\n",
    "#     for z in range(len(labels)):\n",
    "#         print(labels[z], \":: \", zipped[z])"
   ]
  },
  {
   "cell_type": "code",
   "execution_count": null,
   "metadata": {},
   "outputs": [],
   "source": [
    "prediction = model.predict([X_te_st_scaled, X_te_reshaped])\n",
    "prediction = scaler_y.inverse_transform(prediction)"
   ]
  },
  {
   "cell_type": "code",
   "execution_count": null,
   "metadata": {},
   "outputs": [],
   "source": []
  }
 ],
 "metadata": {
  "kaggle": {
   "accelerator": "gpu",
   "dataSources": [
    {
     "datasetId": 4151216,
     "sourceId": 7181844,
     "sourceType": "datasetVersion"
    }
   ],
   "dockerImageVersionId": 30635,
   "isGpuEnabled": true,
   "isInternetEnabled": false,
   "language": "python",
   "sourceType": "notebook"
  },
  "kernelspec": {
   "display_name": "Python 3 (ipykernel)",
   "language": "python",
   "name": "python3"
  },
  "language_info": {
   "codemirror_mode": {
    "name": "ipython",
    "version": 3
   },
   "file_extension": ".py",
   "mimetype": "text/x-python",
   "name": "python",
   "nbconvert_exporter": "python",
   "pygments_lexer": "ipython3",
   "version": "3.8.15"
  }
 },
 "nbformat": 4,
 "nbformat_minor": 4
}
