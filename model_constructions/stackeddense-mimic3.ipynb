{
 "cells": [
  {
   "cell_type": "code",
   "execution_count": 2,
   "metadata": {
    "_cell_guid": "b1076dfc-b9ad-4769-8c92-a6c4dae69d19",
    "_uuid": "8f2839f25d086af736a60e9eeb907d3b93b6e0e5"
   },
   "outputs": [],
   "source": [
    "import numpy as np\n",
    "import csv\n",
    "from sklearn.model_selection import train_test_split\n",
    "import matplotlib.pyplot as plt\n",
    "import pandas as pd\n",
    "from sklearn.preprocessing import StandardScaler\n",
    "from tensorflow.keras.layers import LSTM, Dense, Dropout\n",
    "from tensorflow import keras\n",
    "import tensorflow as tf\n",
    "# import keras_tuner as kt\n",
    "import sklearn as sk\n",
    "from sklearn.metrics import mean_squared_error"
   ]
  },
  {
   "cell_type": "code",
   "execution_count": 3,
   "metadata": {},
   "outputs": [],
   "source": [
    "def read_data(filename):\n",
    "    df = pd.read_csv(filename, dtype='float64')\n",
    "    fieldnames = list(df.columns)\n",
    "    data = np.array(df.to_dict(orient='records'))\n",
    "    return data, fieldnames"
   ]
  },
  {
   "cell_type": "code",
   "execution_count": 4,
   "metadata": {},
   "outputs": [],
   "source": [
    "data, fieldnames = read_data('dataset/rl_data_final_cont.csv')"
   ]
  },
  {
   "cell_type": "code",
   "execution_count": 5,
   "metadata": {},
   "outputs": [
    {
     "name": "stdout",
     "output_type": "stream",
     "text": [
      "All Fieldnames(62): [(0, 'bloc'), (1, 'icustayid'), (2, 'charttime'), (3, 'gender'), (4, 'age'), (5, 'elixhauser'), (6, 're_admission'), (7, 'died_in_hosp'), (8, 'died_within_48h_of_out_time'), (9, 'mortality_90d'), (10, 'delay_end_of_record_and_discharge_or_death'), (11, 'Weight_kg'), (12, 'GCS'), (13, 'HR'), (14, 'SysBP'), (15, 'MeanBP'), (16, 'DiaBP'), (17, 'RR'), (18, 'SpO2'), (19, 'Temp_C'), (20, 'FiO2_1'), (21, 'Potassium'), (22, 'Sodium'), (23, 'Chloride'), (24, 'Glucose'), (25, 'BUN'), (26, 'Creatinine'), (27, 'Magnesium'), (28, 'Calcium'), (29, 'Ionised_Ca'), (30, 'CO2_mEqL'), (31, 'SGOT'), (32, 'SGPT'), (33, 'Total_bili'), (34, 'Albumin'), (35, 'Hb'), (36, 'WBC_count'), (37, 'Platelets_count'), (38, 'PTT'), (39, 'PT'), (40, 'INR'), (41, 'Arterial_pH'), (42, 'paO2'), (43, 'paCO2'), (44, 'Arterial_BE'), (45, 'Arterial_lactate'), (46, 'HCO3'), (47, 'mechvent'), (48, 'Shock_Index'), (49, 'PaO2_FiO2'), (50, 'median_dose_vaso'), (51, 'max_dose_vaso'), (52, 'input_total'), (53, 'input_4hourly'), (54, 'output_total'), (55, 'output_4hourly'), (56, 'cumulated_balance'), (57, 'SOFA'), (58, 'SIRS'), (59, 'vaso_input'), (60, 'iv_input'), (61, 'reward')]\n"
     ]
    }
   ],
   "source": [
    "print(f'All Fieldnames({len(fieldnames)}):', [i for i in enumerate(fieldnames)])"
   ]
  },
  {
   "cell_type": "code",
   "execution_count": 6,
   "metadata": {},
   "outputs": [
    {
     "name": "stdout",
     "output_type": "stream",
     "text": [
      "All Features(50): [(0, 'gender'), (1, 'age'), (2, 'elixhauser'), (3, 're_admission'), (4, 'Weight_kg'), (5, 'GCS'), (6, 'HR'), (7, 'SysBP'), (8, 'MeanBP'), (9, 'DiaBP'), (10, 'RR'), (11, 'SpO2'), (12, 'Temp_C'), (13, 'FiO2_1'), (14, 'Potassium'), (15, 'Sodium'), (16, 'Chloride'), (17, 'Glucose'), (18, 'BUN'), (19, 'Creatinine'), (20, 'Magnesium'), (21, 'Calcium'), (22, 'Ionised_Ca'), (23, 'CO2_mEqL'), (24, 'SGOT'), (25, 'SGPT'), (26, 'Total_bili'), (27, 'Albumin'), (28, 'Hb'), (29, 'WBC_count'), (30, 'Platelets_count'), (31, 'PTT'), (32, 'PT'), (33, 'INR'), (34, 'Arterial_pH'), (35, 'paO2'), (36, 'paCO2'), (37, 'Arterial_BE'), (38, 'Arterial_lactate'), (39, 'HCO3'), (40, 'mechvent'), (41, 'Shock_Index'), (42, 'PaO2_FiO2'), (43, 'cumulated_balance'), (44, 'SOFA'), (45, 'SIRS'), (46, 'median_dose_vaso'), (47, 'max_dose_vaso'), (48, 'vaso_input'), (49, 'iv_input')]\n"
     ]
    }
   ],
   "source": [
    "all_features = fieldnames[3:7] + fieldnames[11:50] + [fieldnames[56]] + fieldnames[57:59] + fieldnames[50:52] + fieldnames[59:61]\n",
    "#features = ['Weight_kg', 'GCS', 'HR', 'SysBP', 'MeanBP', 'DiaBP', 'RR', 'SpO2', 'Temp_C', 'FiO2_1', 'Potassium', 'Sodium', 'Chloride', 'Glucose', 'BUN', 'Creatinine', 'Magnesium', 'Calcium', 'Ionised_Ca', 'CO2_mEqL', 'SGOT', 'SGPT', 'Total_bili', 'Albumin', 'Hb', 'WBC_count', 'Platelets_count', 'PTT', 'PT', 'INR', 'Arterial_pH', 'paO2', 'paCO2', 'Arterial_BE', 'Arterial_lactate', 'HCO3', 'mechvent', 'Shock_Index', 'PaO2_FiO2', 'cumulated_balance', 'SOFA', 'SIRS', 'median_dose_vaso', 'max_dose_vaso', 'vaso_input', 'iv_input']\n",
    "print(f'All Features({len(all_features)}):', [i for i in enumerate(all_features)])"
   ]
  },
  {
   "cell_type": "code",
   "execution_count": 7,
   "metadata": {},
   "outputs": [
    {
     "name": "stdout",
     "output_type": "stream",
     "text": [
      "Static Features(4): [(0, 'gender'), (1, 'age'), (2, 'elixhauser'), (3, 're_admission')]\n"
     ]
    }
   ],
   "source": [
    "static_features = fieldnames[3:7]\n",
    "print(f'Static Features({len(static_features)}):', [i for i in enumerate(static_features)])"
   ]
  },
  {
   "cell_type": "code",
   "execution_count": 8,
   "metadata": {},
   "outputs": [
    {
     "name": "stdout",
     "output_type": "stream",
     "text": [
      "labels(46): [(0, 'gender'), (1, 'age'), (2, 'elixhauser'), (3, 're_admission'), (4, 'Weight_kg'), (5, 'GCS'), (6, 'HR'), (7, 'SysBP'), (8, 'MeanBP'), (9, 'DiaBP'), (10, 'RR'), (11, 'SpO2'), (12, 'Temp_C'), (13, 'FiO2_1'), (14, 'Potassium'), (15, 'Sodium'), (16, 'Chloride'), (17, 'Glucose'), (18, 'BUN'), (19, 'Creatinine'), (20, 'Magnesium'), (21, 'Calcium'), (22, 'Ionised_Ca'), (23, 'CO2_mEqL'), (24, 'SGOT'), (25, 'SGPT'), (26, 'Total_bili'), (27, 'Albumin'), (28, 'Hb'), (29, 'WBC_count'), (30, 'Platelets_count'), (31, 'PTT'), (32, 'PT'), (33, 'INR'), (34, 'Arterial_pH'), (35, 'paO2'), (36, 'paCO2'), (37, 'Arterial_BE'), (38, 'Arterial_lactate'), (39, 'HCO3'), (40, 'mechvent'), (41, 'Shock_Index'), (42, 'PaO2_FiO2'), (43, 'cumulated_balance'), (44, 'SOFA'), (45, 'SIRS')]\n"
     ]
    }
   ],
   "source": [
    "labels = fieldnames[3:7] + fieldnames[11:50] + [fieldnames[56]] + fieldnames[57:59]\n",
    "#labels = ['Weight_kg', 'GCS', 'HR', 'SysBP', 'MeanBP', 'DiaBP', 'RR', 'SpO2', 'Temp_C', 'FiO2_1', 'Potassium', 'Sodium', 'Chloride', 'Glucose', 'BUN', 'Creatinine', 'Magnesium', 'Calcium', 'Ionised_Ca', 'CO2_mEqL', 'SGOT', 'SGPT', 'Total_bili', 'Albumin', 'Hb', 'WBC_count', 'Platelets_count', 'PTT', 'PT', 'INR', 'Arterial_pH', 'paO2', 'paCO2', 'Arterial_BE', 'Arterial_lactate', 'HCO3', 'mechvent', 'Shock_Index', 'PaO2_FiO2', 'cumulated_balance', 'SOFA', 'SIRS']\n",
    "print(f'labels({len(labels)}):', [i for i in enumerate(labels)])"
   ]
  },
  {
   "cell_type": "code",
   "execution_count": 9,
   "metadata": {},
   "outputs": [
    {
     "name": "stdout",
     "output_type": "stream",
     "text": [
      "Action Names(4): [(0, 'median_dose_vaso'), (1, 'max_dose_vaso'), (2, 'vaso_input'), (3, 'iv_input')]\n"
     ]
    }
   ],
   "source": [
    "# Just to indicate, not used.\n",
    "action_names = fieldnames[50:52] + fieldnames[59:61]\n",
    "print(f'Action Names({len(action_names)}):', [i for i in enumerate(action_names)])"
   ]
  },
  {
   "cell_type": "code",
   "execution_count": 10,
   "metadata": {},
   "outputs": [],
   "source": [
    "def get_padded_features_and_labels(data):\n",
    "    _x = []\n",
    "    _y = []\n",
    "    current_id = data[0]['icustayid']\n",
    "    temp_x = []\n",
    "    temp_y = []\n",
    "    for i in range(len(data)-1):\n",
    "        if data[i]['icustayid'] != data[i+1]['icustayid']:\n",
    "            continue\n",
    "        if data[i]['icustayid'] != current_id:\n",
    "            current_id = data[i]['icustayid']\n",
    "            _x.append(temp_x)\n",
    "            _y.append(temp_y)\n",
    "            temp_x = []\n",
    "            temp_y = []\n",
    "        temp_x.append([data[i][k] for k in all_features])\n",
    "        temp_y.append([data[i+1][k] for k in labels])\n",
    "    if temp_x != []:\n",
    "        _x.append(temp_x)\n",
    "        _y.append(temp_y)\n",
    "    _x = tf.keras.preprocessing.sequence.pad_sequences(_x, padding='pre', dtype='float64', value=0)\n",
    "    _y = tf.keras.preprocessing.sequence.pad_sequences(_y, padding='pre', dtype='float64', value=0)\n",
    "    _x = np.array(_x)\n",
    "    _y = np.array(_y)\n",
    "    _x = _x.reshape(_x.shape[0]*_x.shape[1], _x.shape[2])\n",
    "    _y = _y.reshape(_y.shape[0]*_y.shape[1], _y.shape[2])\n",
    "    return _x, _y\n",
    "\n",
    "def get_features_and_labels(data):\n",
    "    _x = []\n",
    "    _y = []\n",
    "    for i in range(len(data)-1):\n",
    "        if data[i]['icustayid'] != data[i+1]['icustayid']:\n",
    "            continue\n",
    " \n",
    "        _x.append([data[i][k] for k in all_features])\n",
    "        _y.append([data[i+1][k] for k in labels])\n",
    "    return np.array(_x), np.array(_y)\n",
    "\n",
    "def get_comparison_testing_data(data):\n",
    "    _X, _y = get_padded_features_and_labels(data)\n",
    "    _, _X_te, _, _y_te = train_test_split(_X, _y, shuffle=False, test_size=0.2)\n",
    "    X_te_comp = np.array([i for i in _X_te if not np.array_equal(i, np.zeros(50))])\n",
    "    y_te_comp = np.array([i for i in _y_te if not np.array_equal(i, np.zeros(46))])\n",
    "    return X_te_comp, y_te_comp\n"
   ]
  },
  {
   "cell_type": "code",
   "execution_count": 11,
   "metadata": {},
   "outputs": [
    {
     "name": "stdout",
     "output_type": "stream",
     "text": [
      "(393072, 50) (393072, 46)\n",
      "(314457, 50) (78615, 50) (314457, 46) (78615, 46)\n"
     ]
    }
   ],
   "source": [
    "X, y = get_padded_features_and_labels(data)\n",
    "print(X.shape, y.shape)\n",
    "\n",
    "X_tr, X_te, y_tr, y_te = train_test_split(X, y, shuffle=False, test_size=0.2)\n",
    "\n",
    "X_te_comp, y_te_comp = get_comparison_testing_data(data)\n",
    "\n",
    "\n",
    "# Normalize the features\n",
    "scaler_X = sk.preprocessing.StandardScaler().fit(X)\n",
    "X_tr_scaled = scaler_X.transform(X_tr)\n",
    "X_te_scaled = scaler_X.transform(X_te)\n",
    "\n",
    "\n",
    "# Normalize the labels\n",
    "scaler_y = sk.preprocessing.StandardScaler().fit(y)\n",
    "y_tr_scaled = scaler_y.transform(y_tr)\n",
    "y_te_scaled = scaler_y.transform(y_te)\n",
    "\n",
    "\n",
    "print(X_tr_scaled.shape, X_te_scaled.shape, y_tr_scaled.shape, y_te_scaled.shape)\n"
   ]
  },
  {
   "cell_type": "code",
   "execution_count": 12,
   "metadata": {},
   "outputs": [
    {
     "name": "stdout",
     "output_type": "stream",
     "text": [
      "X_tr_st_scaled shape::  (314457, 4)\n",
      "X_te_st_scaled shape::  (78615, 4)\n"
     ]
    }
   ],
   "source": [
    "# Extract Static features\n",
    "\n",
    "X_tr_st_scaled = X_tr_scaled[:, :4]\n",
    "\n",
    "X_te_st_scaled = X_te_scaled[:, :4]\n",
    "\n",
    "\n",
    "print(\"X_tr_st_scaled shape:: \", X_tr_st_scaled.shape)\n",
    "print(\"X_te_st_scaled shape:: \", X_te_st_scaled.shape)\n"
   ]
  },
  {
   "cell_type": "markdown",
   "metadata": {},
   "source": [
    "Hyperparameter Tuning"
   ]
  },
  {
   "cell_type": "code",
   "execution_count": 15,
   "metadata": {
    "execution": {
     "iopub.execute_input": "2024-02-21T00:53:27.654151Z",
     "iopub.status.busy": "2024-02-21T00:53:27.653479Z",
     "iopub.status.idle": "2024-02-21T00:53:27.663238Z",
     "shell.execute_reply": "2024-02-21T00:53:27.662345Z",
     "shell.execute_reply.started": "2024-02-21T00:53:27.654115Z"
    }
   },
   "outputs": [],
   "source": [
    "def model_builder(hp):\n",
    "### Static Data Input layer (only static)\n",
    "    static_inputs = tf.keras.Input(shape=(len(static_features)))\n",
    "\n",
    "    ### Mixed Data Input Layer (both static and dynamic)\n",
    "    mixed_inputs = tf.keras.Input(shape=(len(all_features)))\n",
    "\n",
    "    ### Mixed Data Hidden layers\n",
    "    hp_units1 = hp.Int('units1', min_value=64, max_value=1280, step=64)\n",
    "    mixed_h1 = Dense(hp_units1)(mixed_inputs)\n",
    "#     mixed_h2 = tf.keras.layers.Flatten()(mixed_h1)\n",
    "    hp_units3 = hp.Int('units3', min_value=48, max_value=512, step=16)\n",
    "    mixed_h3 = Dense(hp_units3)(mixed_h1)\n",
    "\n",
    "    ### Main Output Layer\n",
    "    static_outputs = (static_inputs)\n",
    "    mixed_outputs = Dense(len(labels)-4)(mixed_h3)\n",
    "    main_outputs = tf.keras.layers.concatenate([static_outputs, mixed_outputs])\n",
    "\n",
    "    ### Model Creation\n",
    "    model = tf.keras.Model(inputs=[static_inputs, mixed_inputs], outputs=main_outputs)\n",
    "\n",
    "    ### Compile the model\n",
    "    hp_lr = hp.Choice('learning_rate', values=[0.1, 0.05, 0.01, 0.005, 0.001, 0.0005, 0.0001])\n",
    "    opt = keras.optimizers.Adam(learning_rate=hp_lr) #set=0.005, #default=0.001\n",
    "    ls = keras.losses.MeanSquaredError()\n",
    "    model.compile(optimizer=opt, loss=ls, metrics='mape')\n",
    "\n",
    "    ### Model summary\n",
    "#     model.summary()\n",
    "    return model\n"
   ]
  },
  {
   "cell_type": "code",
   "execution_count": 16,
   "metadata": {
    "execution": {
     "iopub.execute_input": "2024-02-21T00:53:28.001752Z",
     "iopub.status.busy": "2024-02-21T00:53:28.000917Z",
     "iopub.status.idle": "2024-02-21T01:22:36.157168Z",
     "shell.execute_reply": "2024-02-21T01:22:36.156277Z",
     "shell.execute_reply.started": "2024-02-21T00:53:28.001720Z"
    }
   },
   "outputs": [
    {
     "name": "stdout",
     "output_type": "stream",
     "text": [
      "Trial 90 Complete [00h 00m 32s]\n",
      "val_loss: 0.13763993978500366\n",
      "\n",
      "Best val_loss So Far: 0.13472634553909302\n",
      "Total elapsed time: 00h 29m 08s\n"
     ]
    }
   ],
   "source": [
    "tuner = kt.Hyperband(model_builder,\n",
    "                     objective='val_loss',\n",
    "                     max_epochs=50,\n",
    "                     factor=3)\n",
    "earlystop = tf.keras.callbacks.EarlyStopping(monitor='val_loss',\n",
    "                                             patience=5)\n",
    "tuner.search([X_tr_st_scaled, X_tr_scaled], y_tr_scaled, epochs=50, batch_size=512,\n",
    "                    shuffle=False,\n",
    "                    validation_data=([X_te_st_scaled, X_te_scaled], y_te_scaled), \n",
    "                    callbacks=[earlystop])\n",
    "best_hps=tuner.get_best_hyperparameters(num_trials=1)[0]"
   ]
  },
  {
   "cell_type": "code",
   "execution_count": 17,
   "metadata": {
    "execution": {
     "iopub.execute_input": "2024-02-21T01:22:36.158937Z",
     "iopub.status.busy": "2024-02-21T01:22:36.158644Z",
     "iopub.status.idle": "2024-02-21T01:22:36.164453Z",
     "shell.execute_reply": "2024-02-21T01:22:36.163264Z",
     "shell.execute_reply.started": "2024-02-21T01:22:36.158911Z"
    }
   },
   "outputs": [
    {
     "name": "stdout",
     "output_type": "stream",
     "text": [
      "448\n",
      "480\n",
      "0.0001\n"
     ]
    }
   ],
   "source": [
    "print(best_hps.get('units1'))\n",
    "print(best_hps.get('units3'))\n",
    "print(best_hps.get('learning_rate'))"
   ]
  },
  {
   "cell_type": "markdown",
   "metadata": {},
   "source": [
    "End Tuning"
   ]
  },
  {
   "cell_type": "code",
   "execution_count": 15,
   "metadata": {},
   "outputs": [
    {
     "name": "stdout",
     "output_type": "stream",
     "text": [
      "Model: \"model_1\"\n",
      "__________________________________________________________________________________________________\n",
      "Layer (type)                    Output Shape         Param #     Connected to                     \n",
      "==================================================================================================\n",
      "input_4 (InputLayer)            [(None, 50)]         0                                            \n",
      "__________________________________________________________________________________________________\n",
      "dense_3 (Dense)                 (None, 448)          22848       input_4[0][0]                    \n",
      "__________________________________________________________________________________________________\n",
      "dense_4 (Dense)                 (None, 480)          215520      dense_3[0][0]                    \n",
      "__________________________________________________________________________________________________\n",
      "input_3 (InputLayer)            [(None, 4)]          0                                            \n",
      "__________________________________________________________________________________________________\n",
      "dense_5 (Dense)                 (None, 42)           20202       dense_4[0][0]                    \n",
      "__________________________________________________________________________________________________\n",
      "concatenate_1 (Concatenate)     (None, 46)           0           input_3[0][0]                    \n",
      "                                                                 dense_5[0][0]                    \n",
      "==================================================================================================\n",
      "Total params: 258,570\n",
      "Trainable params: 258,570\n",
      "Non-trainable params: 0\n",
      "__________________________________________________________________________________________________\n"
     ]
    }
   ],
   "source": [
    "    ### Static Data Input layer (only static)\n",
    "    static_inputs = tf.keras.Input(shape=(len(static_features)))\n",
    "\n",
    "    ### Mixed Data Input Layer (both static and dynamic)\n",
    "    mixed_inputs = tf.keras.Input(shape=(len(all_features)))\n",
    "\n",
    "    ### Mixed Data Hidden layers\n",
    "    mixed_h1 = Dense(448)(mixed_inputs)\n",
    "#     mixed_h2 = tf.keras.layers.Flatten()(mixed_h1)\n",
    "    \n",
    "    mixed_h3 = Dense(480)(mixed_h1)\n",
    "\n",
    "    ### Main Output Layer\n",
    "    static_outputs = (static_inputs)\n",
    "    mixed_outputs = Dense(len(labels)-4)(mixed_h3)\n",
    "    main_outputs = tf.keras.layers.concatenate([static_outputs, mixed_outputs])\n",
    "\n",
    "    ### Model Creation\n",
    "    model = tf.keras.Model(inputs=[static_inputs, mixed_inputs], outputs=main_outputs)\n",
    "\n",
    "    ### Compile the model\n",
    "    opt = keras.optimizers.Adam(learning_rate=0.0001) #set=0.005, #default=0.001\n",
    "    ls = keras.losses.MeanSquaredError()\n",
    "    model.compile(optimizer=opt, loss=ls, metrics='mape')\n",
    "\n",
    "    ### Model summary\n",
    "    model.summary()\n"
   ]
  },
  {
   "cell_type": "code",
   "execution_count": 16,
   "metadata": {},
   "outputs": [
    {
     "name": "stdout",
     "output_type": "stream",
     "text": [
      "Epoch 1/1000\n",
      "154/154 [==============================] - 1s 5ms/step - loss: 0.2840 - mape: 297.2617 - val_loss: 0.1635 - val_mape: 240.7620\n",
      "Epoch 2/1000\n",
      "154/154 [==============================] - 1s 4ms/step - loss: 0.1568 - mape: 195.4905 - val_loss: 0.1425 - val_mape: 192.8364\n",
      "Epoch 3/1000\n",
      "154/154 [==============================] - 1s 4ms/step - loss: 0.1456 - mape: 168.3183 - val_loss: 0.1382 - val_mape: 173.3364\n",
      "Epoch 4/1000\n",
      "154/154 [==============================] - 1s 4ms/step - loss: 0.1427 - mape: 157.7130 - val_loss: 0.1365 - val_mape: 164.0317\n",
      "Epoch 5/1000\n",
      "154/154 [==============================] - 1s 4ms/step - loss: 0.1416 - mape: 152.8408 - val_loss: 0.1357 - val_mape: 159.5562\n",
      "Epoch 6/1000\n",
      "154/154 [==============================] - 1s 4ms/step - loss: 0.1410 - mape: 150.2950 - val_loss: 0.1353 - val_mape: 157.4185\n",
      "Epoch 7/1000\n",
      "154/154 [==============================] - 1s 4ms/step - loss: 0.1407 - mape: 148.8011 - val_loss: 0.1351 - val_mape: 156.6383\n",
      "Epoch 8/1000\n",
      "154/154 [==============================] - 1s 4ms/step - loss: 0.1405 - mape: 148.0146 - val_loss: 0.1349 - val_mape: 156.7257\n",
      "Epoch 9/1000\n",
      "154/154 [==============================] - 1s 4ms/step - loss: 0.1404 - mape: 147.5593 - val_loss: 0.1348 - val_mape: 157.3538\n",
      "Epoch 10/1000\n",
      "154/154 [==============================] - 1s 5ms/step - loss: 0.1403 - mape: 147.4275 - val_loss: 0.1348 - val_mape: 157.9175\n",
      "Epoch 11/1000\n",
      "154/154 [==============================] - 1s 4ms/step - loss: 0.1403 - mape: 147.3963 - val_loss: 0.1348 - val_mape: 158.2851\n",
      "Epoch 12/1000\n",
      "154/154 [==============================] - 1s 4ms/step - loss: 0.1403 - mape: 147.3835 - val_loss: 0.1347 - val_mape: 158.3112\n",
      "Epoch 13/1000\n",
      "154/154 [==============================] - 1s 4ms/step - loss: 0.1403 - mape: 147.3341 - val_loss: 0.1347 - val_mape: 158.3498\n",
      "Epoch 14/1000\n",
      "154/154 [==============================] - 1s 4ms/step - loss: 0.1403 - mape: 147.3480 - val_loss: 0.1347 - val_mape: 158.3001\n",
      "Epoch 15/1000\n",
      "154/154 [==============================] - 1s 4ms/step - loss: 0.1403 - mape: 147.3746 - val_loss: 0.1347 - val_mape: 158.3382\n",
      "Epoch 16/1000\n",
      "154/154 [==============================] - 1s 4ms/step - loss: 0.1403 - mape: 147.3972 - val_loss: 0.1347 - val_mape: 158.2051\n",
      "Epoch 17/1000\n",
      "154/154 [==============================] - 1s 4ms/step - loss: 0.1403 - mape: 147.4800 - val_loss: 0.1347 - val_mape: 158.1185\n",
      "Epoch 00017: early stopping\n"
     ]
    }
   ],
   "source": [
    "X_tr_reshaped = X_tr_scaled#.reshape((X_tr_scaled.shape[0], \n",
    "                            #        1, X_tr_scaled.shape[1]))\n",
    "X_te_reshaped = X_te_scaled#.reshape((X_te_scaled.shape[0], \n",
    "                            #        1, X_te_scaled.shape[1]))\n",
    "\n",
    "#early stopping\n",
    "#==============\n",
    "earlystop = tf.keras.callbacks.EarlyStopping(monitor='val_loss',\n",
    "                                             mode='min',\n",
    "                                             min_delta=0,\n",
    "                                             patience=5,\n",
    "                                             verbose=1)\n",
    "#==============\n",
    "\n",
    "history = model.fit([X_tr_st_scaled, X_tr_reshaped], y_tr_scaled, epochs=1000, batch_size=2048,\n",
    "                    shuffle=False,\n",
    "                    validation_data=([X_te_st_scaled, X_te_reshaped], y_te_scaled), \n",
    "                    verbose=1,\n",
    "                    callbacks=[earlystop])\n"
   ]
  },
  {
   "cell_type": "code",
   "execution_count": 17,
   "metadata": {},
   "outputs": [
    {
     "name": "stdout",
     "output_type": "stream",
     "text": [
      "Train loss: [0.1399281620979309, 149.74696350097656]\n",
      "Test loss: [0.13474597036838531, 158.11798095703125]\n"
     ]
    }
   ],
   "source": [
    "loss = model.evaluate([X_tr_st_scaled, X_tr_reshaped], y_tr_scaled, verbose=0)\n",
    "print(\"Train loss:\", loss)\n",
    "loss = model.evaluate([X_te_st_scaled, X_te_reshaped], y_te_scaled, verbose=0)\n",
    "print(\"Test loss:\", loss)\n",
    "# loss = model.evaluate([X_te_st_unpadded_scaled, X_te_unpadded_reshaped], y_te_unpadded_scaled, verbose=0)\n",
    "# print(\"Test loss (unpadded):\", loss)"
   ]
  },
  {
   "cell_type": "code",
   "execution_count": 18,
   "metadata": {},
   "outputs": [],
   "source": [
    "def get_prediction_mse(model, X, y):\n",
    "    _X = scaler_X.transform(X)\n",
    "    _y = scaler_y.transform(y)\n",
    "    _X_st = _X[:, :4]\n",
    "#     _X = _X.reshape((_X.shape[0], 1, _X.shape[1]))\n",
    "    prediction = model.predict([_X_st, _X])\n",
    "#     prediction = scaler_y.inverse_transform(prediction)\n",
    "    prediction[:, :4] = _X_st[:, :4]\n",
    "    error = sk.metrics.mean_squared_error(prediction, _y)\n",
    "    return error"
   ]
  },
  {
   "cell_type": "code",
   "execution_count": 19,
   "metadata": {},
   "outputs": [
    {
     "name": "stdout",
     "output_type": "stream",
     "text": [
      "0.2066437396008102\n"
     ]
    }
   ],
   "source": [
    "print(get_prediction_mse(model, X_te_comp, y_te_comp))"
   ]
  },
  {
   "cell_type": "code",
   "execution_count": 17,
   "metadata": {
    "execution": {
     "iopub.execute_input": "2024-03-10T09:41:00.765860Z",
     "iopub.status.busy": "2024-03-10T09:41:00.765469Z",
     "iopub.status.idle": "2024-03-10T09:41:00.866726Z",
     "shell.execute_reply": "2024-03-10T09:41:00.865793Z",
     "shell.execute_reply.started": "2024-03-10T09:41:00.765831Z"
    }
   },
   "outputs": [
    {
     "name": "stdout",
     "output_type": "stream",
     "text": [
      "1/1 [==============================] - 0s 43ms/step\n",
      "(1, 46)\n"
     ]
    }
   ],
   "source": [
    "# start_ind = 20\n",
    "# end_ind = 21\n",
    "# prediction = model.predict([X_te_st_scaled[start_ind:end_ind], X_te_reshaped[start_ind:end_ind]])\n",
    "# print(prediction.shape)"
   ]
  },
  {
   "cell_type": "code",
   "execution_count": 18,
   "metadata": {
    "execution": {
     "iopub.execute_input": "2024-03-10T09:41:00.868365Z",
     "iopub.status.busy": "2024-03-10T09:41:00.868084Z",
     "iopub.status.idle": "2024-03-10T09:41:00.876469Z",
     "shell.execute_reply": "2024-03-10T09:41:00.875444Z",
     "shell.execute_reply.started": "2024-03-10T09:41:00.868341Z"
    }
   },
   "outputs": [
    {
     "name": "stdout",
     "output_type": "stream",
     "text": [
      "(prediction, actual label)\n",
      "\n",
      "gender ::  (8.673890050658883e-09, 0.0)\n",
      "age ::  (28002.069690710494, 28002.0690625)\n",
      "elixhauser ::  (6.000000112258407, 6.0)\n",
      "re_admission ::  (-4.1935801775583315e-09, 0.0)\n",
      "Weight_kg ::  (97.0377384381062, 67.7)\n",
      "GCS ::  (6.7580315619060585, 15.0)\n",
      "HR ::  (81.22872439072742, 81.8)\n",
      "SysBP ::  (111.1549068605593, 121.2)\n",
      "MeanBP ::  (75.23129144791707, 84.4)\n",
      "DiaBP ::  (58.62683729080226, 66.0)\n",
      "RR ::  (19.942423419509367, 17.8)\n",
      "SpO2 ::  (95.48716691517072, 96.4)\n",
      "Temp_C ::  (36.453570695345164, 36.4777777777778)\n",
      "FiO2_1 ::  (0.48600067716983264, 0.4)\n",
      "Potassium ::  (4.161803526502958, 4.2)\n",
      "Sodium ::  (138.05271603330792, 137.0)\n",
      "Chloride ::  (101.6840038116212, 102.0)\n",
      "Glucose ::  (211.79461542622138, 195.6)\n",
      "BUN ::  (20.655104033968524, 20.0)\n",
      "Creatinine ::  (0.9178235622062855, 0.9)\n",
      "Magnesium ::  (2.5971945898421414, 2.7)\n",
      "Calcium ::  (8.583900585879597, 8.6)\n",
      "Ionised_Ca ::  (1.1088589784881608, 1.2284210526315802)\n",
      "CO2_mEqL ::  (28.942530229131755, 19.0)\n",
      "SGOT ::  (130.35677725269736, 906.0)\n",
      "SGPT ::  (76.51438413202487, 888.0)\n",
      "Total_bili ::  (1.355230131720152, 3.0)\n",
      "Albumin ::  (3.519778137406198, 3.0)\n",
      "Hb ::  (13.111022838653831, 13.7)\n",
      "WBC_count ::  (9.477113062702779, 9.3)\n",
      "Platelets_count ::  (193.6071496418331, 193.0)\n",
      "PTT ::  (117.74164427897354, 119.68)\n",
      "PT ::  (12.45263999504735, 11.2)\n",
      "INR ::  (1.104345020557931, 1.0)\n",
      "Arterial_pH ::  (7.374666055490929, 7.42)\n",
      "paO2 ::  (152.82600948222614, 69.0)\n",
      "paCO2 ::  (45.35488695720718, 28.0)\n",
      "Arterial_BE ::  (1.9610627579869424, -4.0)\n",
      "Arterial_lactate ::  (2.8610633748257452, 4.21052631578947)\n",
      "HCO3 ::  (27.87872496285458, 28.0)\n",
      "mechvent ::  (0.15007352602688814, 0.0)\n",
      "Shock_Index ::  (0.7393551628691664, 0.674917491749175)\n",
      "PaO2_FiO2 ::  (338.395048344992, 172.5)\n",
      "cumulated_balance ::  (-1311.8405535040897, -1400.0)\n",
      "SOFA ::  (5.371976242921462, 5.0)\n",
      "SIRS ::  (0.6242582151787093, 1.0)\n"
     ]
    }
   ],
   "source": [
    "# for i, j in list(zip(prediction, y_te[start_ind:end_ind])):\n",
    "#     # scaler_y.inverse_transform() de-normalize the predicted values by the normalization scaler.\n",
    "#     zipped = list(zip(scaler_y.inverse_transform([i])[0], j))\n",
    "#     print(\"(prediction, actual label)\")\n",
    "#     print()\n",
    "#     for z in range(len(labels)):\n",
    "#         print(labels[z], \":: \", zipped[z])"
   ]
  },
  {
   "cell_type": "code",
   "execution_count": 20,
   "metadata": {},
   "outputs": [
    {
     "name": "stdout",
     "output_type": "stream",
     "text": [
      "INFO:tensorflow:Assets written to: saved_models/stacked_dense_layers\\assets\n"
     ]
    }
   ],
   "source": [
    "model.save('saved_models/stacked_dense_layers')"
   ]
  },
  {
   "cell_type": "code",
   "execution_count": 21,
   "metadata": {},
   "outputs": [],
   "source": [
    "temp_model = tf.keras.models.load_model('saved_models/stacked_dense_layers')"
   ]
  },
  {
   "cell_type": "code",
   "execution_count": 22,
   "metadata": {},
   "outputs": [
    {
     "name": "stdout",
     "output_type": "stream",
     "text": [
      "Train loss: [0.1399281620979309, 149.74696350097656]\n",
      "Test loss: [0.13474597036838531, 158.11798095703125]\n"
     ]
    }
   ],
   "source": [
    "loss = temp_model.evaluate([X_tr_st_scaled, X_tr_reshaped], y_tr_scaled, verbose=0)\n",
    "print(\"Train loss:\", loss)\n",
    "loss = temp_model.evaluate([X_te_st_scaled, X_te_reshaped], y_te_scaled, verbose=0)\n",
    "print(\"Test loss:\", loss)\n",
    "# loss = model.evaluate([X_te_st_unpadded_scaled, X_te_unpadded_reshaped], y_te_unpadded_scaled, verbose=0)\n",
    "# print(\"Test loss (unpadded):\", loss)"
   ]
  },
  {
   "cell_type": "code",
   "execution_count": 23,
   "metadata": {},
   "outputs": [
    {
     "name": "stdout",
     "output_type": "stream",
     "text": [
      "0.2066437396008102\n"
     ]
    }
   ],
   "source": [
    "print(get_prediction_mse(temp_model, X_te_comp, y_te_comp))"
   ]
  },
  {
   "cell_type": "code",
   "execution_count": null,
   "metadata": {},
   "outputs": [],
   "source": []
  }
 ],
 "metadata": {
  "kaggle": {
   "accelerator": "gpu",
   "dataSources": [
    {
     "datasetId": 4151216,
     "sourceId": 7181844,
     "sourceType": "datasetVersion"
    }
   ],
   "dockerImageVersionId": 30646,
   "isGpuEnabled": true,
   "isInternetEnabled": true,
   "language": "python",
   "sourceType": "notebook"
  },
  "kernelspec": {
   "display_name": "Python 3 (ipykernel)",
   "language": "python",
   "name": "python3"
  },
  "language_info": {
   "codemirror_mode": {
    "name": "ipython",
    "version": 3
   },
   "file_extension": ".py",
   "mimetype": "text/x-python",
   "name": "python",
   "nbconvert_exporter": "python",
   "pygments_lexer": "ipython3",
   "version": "3.8.15"
  }
 },
 "nbformat": 4,
 "nbformat_minor": 4
}
